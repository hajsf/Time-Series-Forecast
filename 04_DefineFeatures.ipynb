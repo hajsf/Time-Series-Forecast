{
  "cells": [
    {
      "cell_type": "markdown",
      "metadata": {
        "id": "view-in-github",
        "colab_type": "text"
      },
      "source": [
        "<a href=\"https://colab.research.google.com/github/hajsf/Time-Series-Forecast/blob/main/04_DefineFeatures.ipynb\" target=\"_parent\"><img src=\"https://colab.research.google.com/assets/colab-badge.svg\" alt=\"Open In Colab\"/></a>"
      ]
    },
    {
      "cell_type": "markdown",
      "metadata": {
        "id": "bEp9tZLZmLvl"
      },
      "source": [
        "Mount google drive"
      ]
    },
    {
      "cell_type": "code",
      "execution_count": 1,
      "metadata": {
        "id": "xCiQK9EymKri",
        "colab": {
          "base_uri": "https://localhost:8080/"
        },
        "outputId": "f0becb2e-86e1-4e9c-dea4-fd7a679ee31b"
      },
      "outputs": [
        {
          "output_type": "stream",
          "name": "stdout",
          "text": [
            "Mounted at /content/drive\n"
          ]
        }
      ],
      "source": [
        "from google.colab import drive\n",
        "drive.mount('/content/drive')"
      ]
    },
    {
      "cell_type": "markdown",
      "source": [
        "Install the Hijri converter package (if not installed)"
      ],
      "metadata": {
        "id": "lrzYNeBEOKq_"
      }
    },
    {
      "cell_type": "code",
      "source": [
        "!pip install hijri-converter"
      ],
      "metadata": {
        "id": "2YIOYX0mOIyw"
      },
      "execution_count": null,
      "outputs": []
    },
    {
      "cell_type": "code",
      "source": [
        "import pandas as pd\n",
        "import glob\n",
        "import numpy as np\n",
        "from hijri_converter import Hijri, Gregorian\n",
        "import matplotlib.pyplot as plt\n",
        "import seaborn as sns\n",
        "import pickle"
      ],
      "metadata": {
        "id": "vFgtZTRq63k5"
      },
      "execution_count": 2,
      "outputs": []
    },
    {
      "cell_type": "markdown",
      "metadata": {
        "id": "ExreCoBoa1b9"
      },
      "source": [
        "**Read the data files**\n",
        "\n",
        "\n",
        "*   Define correct seperator, tab in our example\n",
        "*   Use dtype to enforce data type mainy in casefield field has mix data types\n",
        "*   Use low_memory=False so you do not mind whatever type the undefined fields are read in they have mix data\n",
        "\n",
        "\n",
        "\n"
      ]
    },
    {
      "cell_type": "code",
      "source": [
        "pathData = \"/content/drive/MyDrive/ColabNotebooks/dataset/02_ProcessedData/\"\n",
        "pathExternal = \"/content/drive/MyDrive/ColabNotebooks/dataset/03_ExternalData/\"\n"
      ],
      "metadata": {
        "id": "vrDDwi4cywry"
      },
      "execution_count": 3,
      "outputs": []
    },
    {
      "cell_type": "code",
      "execution_count": 5,
      "metadata": {
        "id": "bSn40j76mKrz",
        "colab": {
          "base_uri": "https://localhost:8080/"
        },
        "outputId": "927dd48e-eb22-4a88-fdc1-456aca48bfea"
      },
      "outputs": [
        {
          "output_type": "stream",
          "name": "stdout",
          "text": [
            "number of records: 5241015\n"
          ]
        }
      ],
      "source": [
        "with open(pathData + 'data.pk', 'rb') as f:\n",
        "  df = pickle.load(f)\n",
        "print(\"number of records:\", len(df))"
      ]
    },
    {
      "cell_type": "code",
      "source": [
        "import hashlib\n",
        "\n",
        "def hashSKU(s):  \n",
        "      return int(hashlib.sha1(s.encode(\"utf-8\")).hexdigest(), 16) % (10 ** 8)"
      ],
      "metadata": {
        "id": "uB2NH4ubloku"
      },
      "execution_count": null,
      "outputs": []
    },
    {
      "cell_type": "markdown",
      "source": [
        "Test some data to ensure everything is read correctly"
      ],
      "metadata": {
        "id": "wbQQ2soBoDFr"
      }
    },
    {
      "cell_type": "markdown",
      "metadata": {
        "id": "wcTVjVB1ilDA"
      },
      "source": [
        "**Feature Creation**"
      ]
    },
    {
      "cell_type": "code",
      "source": [
        "from hijri_converter import Hijri, Gregorian\n",
        "\n",
        "def hijriDate(row):  \n",
        "    y = row['DATE1'].year\n",
        "    m = row['DATE1'].month\n",
        "    d = row['DATE1'].day\n",
        "    return Gregorian(y, m, d).to_hijri()\n",
        "\n",
        "def isRamadan(dt):  \n",
        "    if dt.month == 9:\n",
        "      return 1\n",
        "    else:\n",
        "      return 0\n",
        "\n",
        "def isRamadanEnd(dt):  \n",
        "    if dt.month == 9 and dt.day >= 21:\n",
        "      return 1\n",
        "    else:\n",
        "      return 0\n",
        "\n",
        "def isEid(dt):  \n",
        "    if (dt.month == 10 and dt.day < 4) or (dt.month == 12 and dt.day < 9 and dt.day > 14):\n",
        "      return 1\n",
        "    else:\n",
        "      return 0"
      ],
      "metadata": {
        "id": "l_255Z5SOYj8"
      },
      "execution_count": null,
      "outputs": []
    },
    {
      "cell_type": "code",
      "source": [
        "def isWeekend(dt):  \n",
        "    if dt.weekday() == 4 or dt.weekday() == 5: # Monday is 0\n",
        "      return 1\n",
        "    else:\n",
        "      return 0\n",
        "\n",
        "def isSalaryweek(dt):  \n",
        "    if dt.day >= 25:\n",
        "      return 1\n",
        "    else:\n",
        "      return 0\n",
        "\n",
        "def isNationalday(dt):  \n",
        "    if (dt.month == 2 and dt.day == 22) or (dt.month == 9 and dt.day == 23) :\n",
        "      return 1\n",
        "    else:\n",
        "      return 0"
      ],
      "metadata": {
        "id": "tNYAfUkZOvdX"
      },
      "execution_count": null,
      "outputs": []
    },
    {
      "cell_type": "markdown",
      "source": [
        "Convert DATE1 from string to date format"
      ],
      "metadata": {
        "id": "cKbxIaq3fw55"
      }
    },
    {
      "cell_type": "code",
      "source": [
        "df['DATE1'] = pd.to_datetime(df['DATE1'], format='%Y-%m-%d %H:%M:%S')"
      ],
      "metadata": {
        "id": "jkt4ngJHfaFp"
      },
      "execution_count": null,
      "outputs": []
    },
    {
      "cell_type": "markdown",
      "source": [
        "**Date static features, convert date to features**"
      ],
      "metadata": {
        "id": "mGROBjYqM7yy"
      }
    },
    {
      "cell_type": "markdown",
      "source": [
        "If DATE1 is indexed then use the below instead of the above"
      ],
      "metadata": {
        "id": "xot2z_NCNK_d"
      }
    },
    {
      "cell_type": "code",
      "source": [
        "df['hashedSKU'] = df['ITEM_ID'].apply(lambda s: hashSKU(s))"
      ],
      "metadata": {
        "id": "jKG099aa0w9v"
      },
      "execution_count": null,
      "outputs": []
    },
    {
      "cell_type": "code",
      "source": [
        "df = df.drop(columns=['ITEM_ID'])"
      ],
      "metadata": {
        "id": "MLgsMgGV1Vr8"
      },
      "execution_count": null,
      "outputs": []
    },
    {
      "cell_type": "code",
      "source": [
        "df['dayofyear'] = df['DATE1'].apply(lambda dt: dt.dayofyear)\n",
        "df['Monthday'] = df['DATE1'].apply(lambda dt: dt.day)\n",
        "df['Weekday'] = df['DATE1'].apply(lambda dt: dt.dayofweek)\n",
        "df['weekofyear'] = df['DATE1'].apply(lambda dt: dt.week)\n",
        "df['month'] = df['DATE1'].apply(lambda dt: dt.month)\n",
        "df['quarter'] = df['DATE1'].apply(lambda dt: dt.quarter)"
      ],
      "metadata": {
        "id": "PPU-kCs6NJ_v"
      },
      "execution_count": null,
      "outputs": []
    },
    {
      "cell_type": "markdown",
      "source": [
        "Assign features related to calendar DATE1"
      ],
      "metadata": {
        "id": "_kzpvepdNTLR"
      }
    },
    {
      "cell_type": "code",
      "source": [
        "df['isSalaryweek'] = df['DATE1'].apply(lambda dt: isSalaryweek(dt))\n",
        "df['isWeekend'] = df['DATE1'].apply(lambda dt: isWeekend(dt))\n",
        "df['isNationalday'] = df['DATE1'].apply(lambda dt: isNationalday(dt))"
      ],
      "metadata": {
        "id": "DYJCON0iPbsh"
      },
      "execution_count": null,
      "outputs": []
    },
    {
      "cell_type": "code",
      "source": [
        "df['hijri'] = df.apply(lambda row: hijriDate(row), axis=1)\n",
        "df['isRamadan'] = df['hijri'].apply(lambda dt: isRamadan(dt))\n",
        "df['isRamadanEnd'] = df['hijri'].apply(lambda dt: isRamadanEnd(dt))\n",
        "df['isEid'] = df['hijri'].apply(lambda dt: isEid(dt))"
      ],
      "metadata": {
        "id": "RwEhDH6-hhEP"
      },
      "execution_count": null,
      "outputs": []
    },
    {
      "cell_type": "code",
      "source": [
        "df = df.drop(columns=['hijri'])"
      ],
      "metadata": {
        "id": "C_6zcZfnzjih"
      },
      "execution_count": null,
      "outputs": []
    },
    {
      "cell_type": "markdown",
      "source": [
        "Import school days and calendar related activities that could impact all items and sales centers and add them to the features dataframe"
      ],
      "metadata": {
        "id": "kxt7CBLJTHxq"
      }
    },
    {
      "cell_type": "code",
      "source": [
        "calenderFeatures = pd.read_csv(pathExternal +'calenderFeatures.csv', sep=',', lineterminator='\\r', low_memory=False)\n",
        "calenderFeatures = calenderFeatures.replace('\\n','', regex=True)\n",
        "calenderFeatures['DATE1'] = pd.to_datetime(calenderFeatures['DATE1'], format='%Y-%m-%d %H:%M:%S')\n",
        "df = pd.merge(df, \n",
        "              calenderFeatures, \n",
        "              on =['DATE1'], \n",
        "              how ='inner')"
      ],
      "metadata": {
        "id": "XFu101xKWZpR"
      },
      "execution_count": null,
      "outputs": []
    },
    {
      "cell_type": "code",
      "source": [
        "df = df.drop(columns=['TTL_VAL', 'TTL_CST'])"
      ],
      "metadata": {
        "id": "zEy6Yl7Qo5GS"
      },
      "execution_count": null,
      "outputs": []
    },
    {
      "cell_type": "code",
      "source": [
        "Categories = pd.read_csv(pathExternal +'Categories.csv', sep=',', lineterminator='\\r', low_memory=False)\n",
        "Categories = Categories.replace('\\n','', regex=True)\n",
        "Categories[['CL_1']] = Categories[['CL_1']].astype(float, errors = 'raise')\n",
        "Categories = Categories[['CL_1','Category']]\n",
        "Categories = Categories.reset_index()\n",
        "Categories = Categories.drop(columns=['index'])\n",
        "Categories = Categories.dropna(subset=['Category']) \n",
        "Categories.dtypes"
      ],
      "metadata": {
        "id": "hE1zesvppU2w"
      },
      "execution_count": null,
      "outputs": []
    },
    {
      "cell_type": "markdown",
      "source": [
        "Add SKU category"
      ],
      "metadata": {
        "id": "O8aFFYnjVQhs"
      }
    },
    {
      "cell_type": "markdown",
      "source": [
        "Read and clean categories file"
      ],
      "metadata": {
        "id": "f2NYYtPmm505"
      }
    },
    {
      "cell_type": "code",
      "source": [
        "SKUcategory = pd.read_csv(pathExternal +'ITEMS_MASTER.csv', sep='\\t', lineterminator='\\r', low_memory=False)\n",
        "SKUcategory = SKUcategory.replace('\\n','', regex=True)\n",
        "SKUcategory[['ITEM_ID']] = SKUcategory[['ITEM_ID']].astype(str, errors = 'raise')\n",
        "SKUcategory = SKUcategory.reset_index()\n",
        "SKUcategory = SKUcategory.drop(columns=['index'])\n",
        "SKUcategory = pd.merge(SKUcategory, \n",
        "              Categories, \n",
        "              on =['CL_1'], \n",
        "              how ='inner')\n",
        "SKUcategory = SKUcategory[['ITEM_ID','Category']]\n",
        "SKUcategory.dtypes"
      ],
      "metadata": {
        "id": "Py5ehiEkXfNR"
      },
      "execution_count": null,
      "outputs": []
    },
    {
      "cell_type": "code",
      "source": [
        "oneHot = (pd.get_dummies(SKUcategory.Category, prefix='Category').reset_index())\n",
        "SKUcategory = SKUcategory.join(oneHot)\n",
        "SKUcategory = SKUcategory.drop(columns=['Category', 'index'])"
      ],
      "metadata": {
        "id": "r-nRMeqaY8v9"
      },
      "execution_count": null,
      "outputs": []
    },
    {
      "cell_type": "code",
      "source": [
        "SKUcategory['hashedSKU'] = SKUcategory['ITEM_ID'].apply(lambda s: hashSKU(s))"
      ],
      "metadata": {
        "id": "tDhRmvTY0UIv"
      },
      "execution_count": null,
      "outputs": []
    },
    {
      "cell_type": "code",
      "source": [
        "SKUcategory = SKUcategory.drop(columns=['ITEM_ID'])"
      ],
      "metadata": {
        "id": "aKLKnRUE0XsH"
      },
      "execution_count": null,
      "outputs": []
    },
    {
      "cell_type": "code",
      "source": [
        "df = pd.merge(df, \n",
        "              SKUcategory, \n",
        "              on =['hashedSKU'], \n",
        "              how ='inner')"
      ],
      "metadata": {
        "id": "YpfwC5AcVcmH"
      },
      "execution_count": null,
      "outputs": []
    },
    {
      "cell_type": "code",
      "source": [
        "FEATURES = list(df.columns.values)\n",
        "print('number of features:', len(FEATURES))\n",
        "FEATURES"
      ],
      "metadata": {
        "id": "lPuVgBYrWKzQ"
      },
      "execution_count": null,
      "outputs": []
    },
    {
      "cell_type": "code",
      "source": [
        "df.info()"
      ],
      "metadata": {
        "id": "QIquM5BXvZKH"
      },
      "execution_count": null,
      "outputs": []
    },
    {
      "cell_type": "markdown",
      "source": [
        "As all field should be either numerical or boolean and string is not accepted, we are running the model for one SKU only, filtering the dataframe where ITEM_ID is matching with the SKU code, and drop all others"
      ],
      "metadata": {
        "id": "14oPqJobwr8l"
      }
    },
    {
      "cell_type": "code",
      "source": [
        "with open(pathData + 'model.pk', 'wb') as f:\n",
        "  pickle.dump(df, f)"
      ],
      "metadata": {
        "id": "-aA2GG3RW44g"
      },
      "execution_count": null,
      "outputs": []
    },
    {
      "cell_type": "code",
      "source": [
        "df124766 = df.query(f'hashedSKU == {hashSKU(\"124766\")}')"
      ],
      "metadata": {
        "id": "mYqcAcZNW8Vm"
      },
      "execution_count": null,
      "outputs": []
    },
    {
      "cell_type": "code",
      "source": [
        "with open(pathData + '124766.pk', 'wb') as f:\n",
        "  pickle.dump(df124766, f)"
      ],
      "metadata": {
        "id": "MF0Vs8ENpeHy"
      },
      "execution_count": null,
      "outputs": []
    },
    {
      "cell_type": "markdown",
      "source": [
        "**Below to be implemented in the future**"
      ],
      "metadata": {
        "id": "vmvBwGZ7oft0"
      }
    },
    {
      "cell_type": "markdown",
      "source": [
        "Import selective days and calendar related activities that could impact selective items and sales centers and add them to the features dataframe"
      ],
      "metadata": {
        "id": "MjuzhqW8XD-F"
      }
    },
    {
      "cell_type": "code",
      "source": [
        "df.set_index(\"DATE1\", inplace = True)"
      ],
      "metadata": {
        "id": "KESM2aQLRziU"
      },
      "execution_count": null,
      "outputs": []
    },
    {
      "cell_type": "markdown",
      "metadata": {
        "id": "xdir6v3qiprM"
      },
      "source": [
        "**Visualize our Feature / Target Relationship**"
      ]
    },
    {
      "cell_type": "code",
      "source": [
        "sns.set_style(\"whitegrid\")\n",
        "plt.rcParams['figure.figsize'] = [20, 5] #  [width, height]  \n",
        "sns.boxplot(x = df.index.get_level_values('DATE1'),  # ('SLS_CNTR_ID')\n",
        "            y = 'QTY',\n",
        "            data = df, palette=\"Blues\", width=0.3)"
      ],
      "metadata": {
        "id": "ynbTG5K7R_wx",
        "outputId": "912c52bd-00a2-4b6c-d80a-edd7242a5bcc",
        "colab": {
          "base_uri": "https://localhost:8080/",
          "height": 351
        }
      },
      "execution_count": null,
      "outputs": [
        {
          "output_type": "execute_result",
          "data": {
            "text/plain": [
              "<matplotlib.axes._subplots.AxesSubplot at 0x7f4cf11fa750>"
            ]
          },
          "metadata": {},
          "execution_count": 171
        },
        {
          "output_type": "display_data",
          "data": {
            "text/plain": [
              "<Figure size 1440x360 with 1 Axes>"
            ],
            "image/png": "[encoded data removed]"
          },
          "metadata": {}
        }
      ]
    }
  ],
  "metadata": {
    "accelerator": "GPU",
    "colab": {
      "collapsed_sections": [],
      "name": "04_DefineFeatures",
      "provenance": [],
      "include_colab_link": true
    },
    "kernelspec": {
      "display_name": "Python 3",
      "name": "python3"
    }
  },
  "nbformat": 4,
  "nbformat_minor": 0
}