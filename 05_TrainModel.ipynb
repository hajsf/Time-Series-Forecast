{
  "cells": [
    {
      "cell_type": "markdown",
      "metadata": {
        "id": "view-in-github",
        "colab_type": "text"
      },
      "source": [
        "<a href=\"https://colab.research.google.com/github/hajsf/Time-Series-Forecast/blob/main/05_TrainModel.ipynb\" target=\"_parent\"><img src=\"https://colab.research.google.com/assets/colab-badge.svg\" alt=\"Open In Colab\"/></a>"
      ]
    },
    {
      "cell_type": "markdown",
      "metadata": {
        "id": "bEp9tZLZmLvl"
      },
      "source": [
        "Mount google drive"
      ]
    },
    {
      "cell_type": "code",
      "execution_count": 1,
      "metadata": {
        "id": "xCiQK9EymKri",
        "colab": {
          "base_uri": "https://localhost:8080/"
        },
        "outputId": "c6ce4317-db07-4d3f-c7b5-2984573871bb"
      },
      "outputs": [
        {
          "output_type": "stream",
          "name": "stdout",
          "text": [
            "Mounted at /content/drive\n"
          ]
        }
      ],
      "source": [
        "from google.colab import drive\n",
        "drive.mount('/content/drive', force_remount=True)"
      ]
    },
    {
      "cell_type": "code",
      "source": [
        "import pandas as pd\n",
        "import glob\n",
        "import numpy as np"
      ],
      "metadata": {
        "id": "vFgtZTRq63k5"
      },
      "execution_count": 2,
      "outputs": []
    },
    {
      "cell_type": "code",
      "execution_count": 3,
      "metadata": {
        "id": "h2LQvqXbpQpx"
      },
      "outputs": [],
      "source": [
        "# import required library\n",
        "import matplotlib.pyplot as plt\n",
        "import seaborn as sns\n",
        "import xgboost as xgb\n",
        "from sklearn.metrics import mean_squared_error\n",
        "import pickle"
      ]
    },
    {
      "cell_type": "markdown",
      "metadata": {
        "id": "ExreCoBoa1b9"
      },
      "source": [
        "**Read the pickle files**\n",
        "\n",
        "\n",
        "\n"
      ]
    },
    {
      "cell_type": "code",
      "source": [
        "pathData = \"/content/drive/MyDrive/ColabNotebooks/dataset/02_ProcessedData/\""
      ],
      "metadata": {
        "id": "vrDDwi4cywry"
      },
      "execution_count": 4,
      "outputs": []
    },
    {
      "cell_type": "code",
      "execution_count": 5,
      "metadata": {
        "id": "bSn40j76mKrz",
        "colab": {
          "base_uri": "https://localhost:8080/",
          "height": 386
        },
        "outputId": "345e42c5-8da4-49d4-896d-17dfa5acd638"
      },
      "outputs": [
        {
          "output_type": "execute_result",
          "data": {
            "text/plain": [
              "        SLS_CNTR_ID      DATE1   QTY  isSalaryweek  Holiday  \\\n",
              "395998            5 2022-01-12   4.0             0        0   \n",
              "395999           13 2022-01-12  22.0             0        0   \n",
              "396000           19 2022-01-12   1.0             0        0   \n",
              "396001           20 2022-01-12   7.0             0        0   \n",
              "396002           24 2022-01-12   3.0             0        0   \n",
              "\n",
              "        AcademicCalendarSemester  isWeekend  isNationalday  isRamadan  \\\n",
              "395998                         0          0              0          0   \n",
              "395999                         0          0              0          0   \n",
              "396000                         0          0              0          0   \n",
              "396001                         0          0              0          0   \n",
              "396002                         0          0              0          0   \n",
              "\n",
              "        isRamadanEnd  ...  Category_Cancelled  Category_HomeMade  \\\n",
              "395998             0  ...                   0                  0   \n",
              "395999             0  ...                   0                  0   \n",
              "396000             0  ...                   0                  0   \n",
              "396001             0  ...                   0                  0   \n",
              "396002             0  ...                   0                  0   \n",
              "\n",
              "        Category_HomeMadewithVAT  Category_Imported  Category_Itproducts  \\\n",
              "395998                         0                  0                    0   \n",
              "395999                         0                  0                    0   \n",
              "396000                         0                  0                    0   \n",
              "396001                         0                  0                    0   \n",
              "396002                         0                  0                    0   \n",
              "\n",
              "        Category_Local  Category_Packaging  Category_Partner  \\\n",
              "395998               1                   0                 0   \n",
              "395999               1                   0                 0   \n",
              "396000               1                   0                 0   \n",
              "396001               1                   0                 0   \n",
              "396002               1                   0                 0   \n",
              "\n",
              "        Category_RawMaterial  Category_SisterCompany  \n",
              "395998                     0                       0  \n",
              "395999                     0                       0  \n",
              "396000                     0                       0  \n",
              "396001                     0                       0  \n",
              "396002                     0                       0  \n",
              "\n",
              "[5 rows x 24 columns]"
            ],
            "text/html": [
              "\n",
              "  <div id=\"df-403c6b68-fe39-4667-b62f-b22c079f30b6\">\n",
              "    <div class=\"colab-df-container\">\n",
              "      <div>\n",
              "<style scoped>\n",
              "    .dataframe tbody tr th:only-of-type {\n",
              "        vertical-align: middle;\n",
              "    }\n",
              "\n",
              "    .dataframe tbody tr th {\n",
              "        vertical-align: top;\n",
              "    }\n",
              "\n",
              "    .dataframe thead th {\n",
              "        text-align: right;\n",
              "    }\n",
              "</style>\n",
              "<table border=\"1\" class=\"dataframe\">\n",
              "  <thead>\n",
              "    <tr style=\"text-align: right;\">\n",
              "      <th></th>\n",
              "      <th>SLS_CNTR_ID</th>\n",
              "      <th>DATE1</th>\n",
              "      <th>QTY</th>\n",
              "      <th>isSalaryweek</th>\n",
              "      <th>Holiday</th>\n",
              "      <th>AcademicCalendarSemester</th>\n",
              "      <th>isWeekend</th>\n",
              "      <th>isNationalday</th>\n",
              "      <th>isRamadan</th>\n",
              "      <th>isRamadanEnd</th>\n",
              "      <th>...</th>\n",
              "      <th>Category_Cancelled</th>\n",
              "      <th>Category_HomeMade</th>\n",
              "      <th>Category_HomeMadewithVAT</th>\n",
              "      <th>Category_Imported</th>\n",
              "      <th>Category_Itproducts</th>\n",
              "      <th>Category_Local</th>\n",
              "      <th>Category_Packaging</th>\n",
              "      <th>Category_Partner</th>\n",
              "      <th>Category_RawMaterial</th>\n",
              "      <th>Category_SisterCompany</th>\n",
              "    </tr>\n",
              "  </thead>\n",
              "  <tbody>\n",
              "    <tr>\n",
              "      <th>395998</th>\n",
              "      <td>5</td>\n",
              "      <td>2022-01-12</td>\n",
              "      <td>4.0</td>\n",
              "      <td>0</td>\n",
              "      <td>0</td>\n",
              "      <td>0</td>\n",
              "      <td>0</td>\n",
              "      <td>0</td>\n",
              "      <td>0</td>\n",
              "      <td>0</td>\n",
              "      <td>...</td>\n",
              "      <td>0</td>\n",
              "      <td>0</td>\n",
              "      <td>0</td>\n",
              "      <td>0</td>\n",
              "      <td>0</td>\n",
              "      <td>1</td>\n",
              "      <td>0</td>\n",
              "      <td>0</td>\n",
              "      <td>0</td>\n",
              "      <td>0</td>\n",
              "    </tr>\n",
              "    <tr>\n",
              "      <th>395999</th>\n",
              "      <td>13</td>\n",
              "      <td>2022-01-12</td>\n",
              "      <td>22.0</td>\n",
              "      <td>0</td>\n",
              "      <td>0</td>\n",
              "      <td>0</td>\n",
              "      <td>0</td>\n",
              "      <td>0</td>\n",
              "      <td>0</td>\n",
              "      <td>0</td>\n",
              "      <td>...</td>\n",
              "      <td>0</td>\n",
              "      <td>0</td>\n",
              "      <td>0</td>\n",
              "      <td>0</td>\n",
              "      <td>0</td>\n",
              "      <td>1</td>\n",
              "      <td>0</td>\n",
              "      <td>0</td>\n",
              "      <td>0</td>\n",
              "      <td>0</td>\n",
              "    </tr>\n",
              "    <tr>\n",
              "      <th>396000</th>\n",
              "      <td>19</td>\n",
              "      <td>2022-01-12</td>\n",
              "      <td>1.0</td>\n",
              "      <td>0</td>\n",
              "      <td>0</td>\n",
              "      <td>0</td>\n",
              "      <td>0</td>\n",
              "      <td>0</td>\n",
              "      <td>0</td>\n",
              "      <td>0</td>\n",
              "      <td>...</td>\n",
              "      <td>0</td>\n",
              "      <td>0</td>\n",
              "      <td>0</td>\n",
              "      <td>0</td>\n",
              "      <td>0</td>\n",
              "      <td>1</td>\n",
              "      <td>0</td>\n",
              "      <td>0</td>\n",
              "      <td>0</td>\n",
              "      <td>0</td>\n",
              "    </tr>\n",
              "    <tr>\n",
              "      <th>396001</th>\n",
              "      <td>20</td>\n",
              "      <td>2022-01-12</td>\n",
              "      <td>7.0</td>\n",
              "      <td>0</td>\n",
              "      <td>0</td>\n",
              "      <td>0</td>\n",
              "      <td>0</td>\n",
              "      <td>0</td>\n",
              "      <td>0</td>\n",
              "      <td>0</td>\n",
              "      <td>...</td>\n",
              "      <td>0</td>\n",
              "      <td>0</td>\n",
              "      <td>0</td>\n",
              "      <td>0</td>\n",
              "      <td>0</td>\n",
              "      <td>1</td>\n",
              "      <td>0</td>\n",
              "      <td>0</td>\n",
              "      <td>0</td>\n",
              "      <td>0</td>\n",
              "    </tr>\n",
              "    <tr>\n",
              "      <th>396002</th>\n",
              "      <td>24</td>\n",
              "      <td>2022-01-12</td>\n",
              "      <td>3.0</td>\n",
              "      <td>0</td>\n",
              "      <td>0</td>\n",
              "      <td>0</td>\n",
              "      <td>0</td>\n",
              "      <td>0</td>\n",
              "      <td>0</td>\n",
              "      <td>0</td>\n",
              "      <td>...</td>\n",
              "      <td>0</td>\n",
              "      <td>0</td>\n",
              "      <td>0</td>\n",
              "      <td>0</td>\n",
              "      <td>0</td>\n",
              "      <td>1</td>\n",
              "      <td>0</td>\n",
              "      <td>0</td>\n",
              "      <td>0</td>\n",
              "      <td>0</td>\n",
              "    </tr>\n",
              "  </tbody>\n",
              "</table>\n",
              "<p>5 rows × 24 columns</p>\n",
              "</div>\n",
              "      <button class=\"colab-df-convert\" onclick=\"convertToInteractive('df-403c6b68-fe39-4667-b62f-b22c079f30b6')\"\n",
              "              title=\"Convert this dataframe to an interactive table.\"\n",
              "              style=\"display:none;\">\n",
              "        \n",
              "  <svg xmlns=\"http://www.w3.org/2000/svg\" height=\"24px\"viewBox=\"0 0 24 24\"\n",
              "       width=\"24px\">\n",
              "    <path d=\"M0 0h24v24H0V0z\" fill=\"none\"/>\n",
              "    <path d=\"M18.56 5.44l.94 2.06.94-2.06 2.06-.94-2.06-.94-.94-2.06-.94 2.06-2.06.94zm-11 1L8.5 8.5l.94-2.06 2.06-.94-2.06-.94L8.5 2.5l-.94 2.06-2.06.94zm10 10l.94 2.06.94-2.06 2.06-.94-2.06-.94-.94-2.06-.94 2.06-2.06.94z\"/><path d=\"M17.41 7.96l-1.37-1.37c-.4-.4-.92-.59-1.43-.59-.52 0-1.04.2-1.43.59L10.3 9.45l-7.72 7.72c-.78.78-.78 2.05 0 2.83L4 21.41c.39.39.9.59 1.41.59.51 0 1.02-.2 1.41-.59l7.78-7.78 2.81-2.81c.8-.78.8-2.07 0-2.86zM5.41 20L4 18.59l7.72-7.72 1.47 1.35L5.41 20z\"/>\n",
              "  </svg>\n",
              "      </button>\n",
              "      \n",
              "  <style>\n",
              "    .colab-df-container {\n",
              "      display:flex;\n",
              "      flex-wrap:wrap;\n",
              "      gap: 12px;\n",
              "    }\n",
              "\n",
              "    .colab-df-convert {\n",
              "      background-color: #E8F0FE;\n",
              "      border: none;\n",
              "      border-radius: 50%;\n",
              "      cursor: pointer;\n",
              "      display: none;\n",
              "      fill: #1967D2;\n",
              "      height: 32px;\n",
              "      padding: 0 0 0 0;\n",
              "      width: 32px;\n",
              "    }\n",
              "\n",
              "    .colab-df-convert:hover {\n",
              "      background-color: #E2EBFA;\n",
              "      box-shadow: 0px 1px 2px rgba(60, 64, 67, 0.3), 0px 1px 3px 1px rgba(60, 64, 67, 0.15);\n",
              "      fill: #174EA6;\n",
              "    }\n",
              "\n",
              "    [theme=dark] .colab-df-convert {\n",
              "      background-color: #3B4455;\n",
              "      fill: #D2E3FC;\n",
              "    }\n",
              "\n",
              "    [theme=dark] .colab-df-convert:hover {\n",
              "      background-color: #434B5C;\n",
              "      box-shadow: 0px 1px 3px 1px rgba(0, 0, 0, 0.15);\n",
              "      filter: drop-shadow(0px 1px 2px rgba(0, 0, 0, 0.3));\n",
              "      fill: #FFFFFF;\n",
              "    }\n",
              "  </style>\n",
              "\n",
              "      <script>\n",
              "        const buttonEl =\n",
              "          document.querySelector('#df-403c6b68-fe39-4667-b62f-b22c079f30b6 button.colab-df-convert');\n",
              "        buttonEl.style.display =\n",
              "          google.colab.kernel.accessAllowed ? 'block' : 'none';\n",
              "\n",
              "        async function convertToInteractive(key) {\n",
              "          const element = document.querySelector('#df-403c6b68-fe39-4667-b62f-b22c079f30b6');\n",
              "          const dataTable =\n",
              "            await google.colab.kernel.invokeFunction('convertToInteractive',\n",
              "                                                     [key], {});\n",
              "          if (!dataTable) return;\n",
              "\n",
              "          const docLinkHtml = 'Like what you see? Visit the ' +\n",
              "            '<a target=\"_blank\" href=https://colab.research.google.com/notebooks/data_table.ipynb>data table notebook</a>'\n",
              "            + ' to learn more about interactive tables.';\n",
              "          element.innerHTML = '';\n",
              "          dataTable['output_type'] = 'display_data';\n",
              "          await google.colab.output.renderOutput(dataTable, element);\n",
              "          const docLink = document.createElement('div');\n",
              "          docLink.innerHTML = docLinkHtml;\n",
              "          element.appendChild(docLink);\n",
              "        }\n",
              "      </script>\n",
              "    </div>\n",
              "  </div>\n",
              "  "
            ]
          },
          "metadata": {},
          "execution_count": 5
        }
      ],
      "source": [
        "with open(pathData + '124766.pk', 'rb') as f:\n",
        "  df = pickle.load(f)\n",
        "df.head()"
      ]
    },
    {
      "cell_type": "code",
      "source": [
        "df.set_index(\"DATE1\", inplace = True)"
      ],
      "metadata": {
        "id": "YPBKMGQhyOU4"
      },
      "execution_count": 6,
      "outputs": []
    },
    {
      "cell_type": "code",
      "source": [
        "print(\"number of records:\", len(df))"
      ],
      "metadata": {
        "id": "ljJlXw_SzL0X",
        "colab": {
          "base_uri": "https://localhost:8080/"
        },
        "outputId": "223a9271-8661-4491-b672-3c3419551617"
      },
      "execution_count": 7,
      "outputs": [
        {
          "output_type": "stream",
          "name": "stdout",
          "text": [
            "number of records: 18184\n"
          ]
        }
      ]
    },
    {
      "cell_type": "markdown",
      "metadata": {
        "id": "nJnstCHlh7G4"
      },
      "source": [
        "**Train / Test Split**"
      ]
    },
    {
      "cell_type": "code",
      "source": [
        "train = df.loc[df.index.get_level_values('DATE1') < '2022-01-01'] # df.index.get_level_values('DATE1').dayofweek == 0\n",
        "test = df.loc[df.index.get_level_values('DATE1') >= '2022-01-01']\n",
        "print(len(train), ' + ', len(test), ' = ',len(df), \", that is :\", len(train)/len(df), ' of data allocated for model training')"
      ],
      "metadata": {
        "id": "D4Hyp49O15Ls",
        "outputId": "4b2db971-a275-4ad4-9321-df0dbf325579",
        "colab": {
          "base_uri": "https://localhost:8080/"
        }
      },
      "execution_count": 15,
      "outputs": [
        {
          "output_type": "stream",
          "name": "stdout",
          "text": [
            "14208  +  3976  =  18184 , that is : 0.7813462384513858  of data allocated for model training\n"
          ]
        }
      ]
    },
    {
      "cell_type": "code",
      "source": [
        "fig, ax = plt.subplots(figsize=(25, 5))\n",
        "plt.plot(train['QTY'], label='Training Set')\n",
        "plt.plot(test['QTY'], label='Test Set')\n",
        "plt.ylabel('Qty')\n",
        "plt.legend(['Training Set', 'Test Set'])\n",
        "plt.axvline(pd.Timestamp('2022-01-01'), color='black', ls='--')\n",
        "plt.show()"
      ],
      "metadata": {
        "id": "v4U_82wW3UlI",
        "outputId": "0431d831-8722-432a-defa-f214537fad51",
        "colab": {
          "base_uri": "https://localhost:8080/",
          "height": 293
        }
      },
      "execution_count": 54,
      "outputs": [
        {
          "output_type": "display_data",
          "data": {
            "text/plain": [
              "<Figure size 1800x360 with 1 Axes>"
            ],
            "image/png": "[encoded data removed]"
          },
          "metadata": {
            "needs_background": "light"
          }
        }
      ]
    },
    {
      "cell_type": "code",
      "source": [
        "test.head()"
      ],
      "metadata": {
        "colab": {
          "base_uri": "https://localhost:8080/",
          "height": 418
        },
        "id": "sSFGXGso7iro",
        "outputId": "ef2a0e46-2d49-4e18-983d-23b715c7717f"
      },
      "execution_count": 29,
      "outputs": [
        {
          "output_type": "execute_result",
          "data": {
            "text/plain": [
              "            SLS_CNTR_ID   QTY  isSalaryweek  Holiday  \\\n",
              "DATE1                                                  \n",
              "2022-01-12            5   4.0             0        0   \n",
              "2022-01-12           13  22.0             0        0   \n",
              "2022-01-12           19   1.0             0        0   \n",
              "2022-01-12           20   7.0             0        0   \n",
              "2022-01-12           24   3.0             0        0   \n",
              "\n",
              "            AcademicCalendarSemester  isWeekend  isNationalday  isRamadan  \\\n",
              "DATE1                                                                       \n",
              "2022-01-12                         0          0              0          0   \n",
              "2022-01-12                         0          0              0          0   \n",
              "2022-01-12                         0          0              0          0   \n",
              "2022-01-12                         0          0              0          0   \n",
              "2022-01-12                         0          0              0          0   \n",
              "\n",
              "            isRamadanEnd  isEid  ...  Category_Cancelled  Category_HomeMade  \\\n",
              "DATE1                            ...                                          \n",
              "2022-01-12             0      0  ...                   0                  0   \n",
              "2022-01-12             0      0  ...                   0                  0   \n",
              "2022-01-12             0      0  ...                   0                  0   \n",
              "2022-01-12             0      0  ...                   0                  0   \n",
              "2022-01-12             0      0  ...                   0                  0   \n",
              "\n",
              "            Category_HomeMadewithVAT  Category_Imported  Category_Itproducts  \\\n",
              "DATE1                                                                          \n",
              "2022-01-12                         0                  0                    0   \n",
              "2022-01-12                         0                  0                    0   \n",
              "2022-01-12                         0                  0                    0   \n",
              "2022-01-12                         0                  0                    0   \n",
              "2022-01-12                         0                  0                    0   \n",
              "\n",
              "            Category_Local  Category_Packaging  Category_Partner  \\\n",
              "DATE1                                                              \n",
              "2022-01-12               1                   0                 0   \n",
              "2022-01-12               1                   0                 0   \n",
              "2022-01-12               1                   0                 0   \n",
              "2022-01-12               1                   0                 0   \n",
              "2022-01-12               1                   0                 0   \n",
              "\n",
              "            Category_RawMaterial  Category_SisterCompany  \n",
              "DATE1                                                     \n",
              "2022-01-12                     0                       0  \n",
              "2022-01-12                     0                       0  \n",
              "2022-01-12                     0                       0  \n",
              "2022-01-12                     0                       0  \n",
              "2022-01-12                     0                       0  \n",
              "\n",
              "[5 rows x 23 columns]"
            ],
            "text/html": [
              "\n",
              "  <div id=\"df-d516c24c-eade-4e93-b02f-1f177f836a83\">\n",
              "    <div class=\"colab-df-container\">\n",
              "      <div>\n",
              "<style scoped>\n",
              "    .dataframe tbody tr th:only-of-type {\n",
              "        vertical-align: middle;\n",
              "    }\n",
              "\n",
              "    .dataframe tbody tr th {\n",
              "        vertical-align: top;\n",
              "    }\n",
              "\n",
              "    .dataframe thead th {\n",
              "        text-align: right;\n",
              "    }\n",
              "</style>\n",
              "<table border=\"1\" class=\"dataframe\">\n",
              "  <thead>\n",
              "    <tr style=\"text-align: right;\">\n",
              "      <th></th>\n",
              "      <th>SLS_CNTR_ID</th>\n",
              "      <th>QTY</th>\n",
              "      <th>isSalaryweek</th>\n",
              "      <th>Holiday</th>\n",
              "      <th>AcademicCalendarSemester</th>\n",
              "      <th>isWeekend</th>\n",
              "      <th>isNationalday</th>\n",
              "      <th>isRamadan</th>\n",
              "      <th>isRamadanEnd</th>\n",
              "      <th>isEid</th>\n",
              "      <th>...</th>\n",
              "      <th>Category_Cancelled</th>\n",
              "      <th>Category_HomeMade</th>\n",
              "      <th>Category_HomeMadewithVAT</th>\n",
              "      <th>Category_Imported</th>\n",
              "      <th>Category_Itproducts</th>\n",
              "      <th>Category_Local</th>\n",
              "      <th>Category_Packaging</th>\n",
              "      <th>Category_Partner</th>\n",
              "      <th>Category_RawMaterial</th>\n",
              "      <th>Category_SisterCompany</th>\n",
              "    </tr>\n",
              "    <tr>\n",
              "      <th>DATE1</th>\n",
              "      <th></th>\n",
              "      <th></th>\n",
              "      <th></th>\n",
              "      <th></th>\n",
              "      <th></th>\n",
              "      <th></th>\n",
              "      <th></th>\n",
              "      <th></th>\n",
              "      <th></th>\n",
              "      <th></th>\n",
              "      <th></th>\n",
              "      <th></th>\n",
              "      <th></th>\n",
              "      <th></th>\n",
              "      <th></th>\n",
              "      <th></th>\n",
              "      <th></th>\n",
              "      <th></th>\n",
              "      <th></th>\n",
              "      <th></th>\n",
              "      <th></th>\n",
              "    </tr>\n",
              "  </thead>\n",
              "  <tbody>\n",
              "    <tr>\n",
              "      <th>2022-01-12</th>\n",
              "      <td>5</td>\n",
              "      <td>4.0</td>\n",
              "      <td>0</td>\n",
              "      <td>0</td>\n",
              "      <td>0</td>\n",
              "      <td>0</td>\n",
              "      <td>0</td>\n",
              "      <td>0</td>\n",
              "      <td>0</td>\n",
              "      <td>0</td>\n",
              "      <td>...</td>\n",
              "      <td>0</td>\n",
              "      <td>0</td>\n",
              "      <td>0</td>\n",
              "      <td>0</td>\n",
              "      <td>0</td>\n",
              "      <td>1</td>\n",
              "      <td>0</td>\n",
              "      <td>0</td>\n",
              "      <td>0</td>\n",
              "      <td>0</td>\n",
              "    </tr>\n",
              "    <tr>\n",
              "      <th>2022-01-12</th>\n",
              "      <td>13</td>\n",
              "      <td>22.0</td>\n",
              "      <td>0</td>\n",
              "      <td>0</td>\n",
              "      <td>0</td>\n",
              "      <td>0</td>\n",
              "      <td>0</td>\n",
              "      <td>0</td>\n",
              "      <td>0</td>\n",
              "      <td>0</td>\n",
              "      <td>...</td>\n",
              "      <td>0</td>\n",
              "      <td>0</td>\n",
              "      <td>0</td>\n",
              "      <td>0</td>\n",
              "      <td>0</td>\n",
              "      <td>1</td>\n",
              "      <td>0</td>\n",
              "      <td>0</td>\n",
              "      <td>0</td>\n",
              "      <td>0</td>\n",
              "    </tr>\n",
              "    <tr>\n",
              "      <th>2022-01-12</th>\n",
              "      <td>19</td>\n",
              "      <td>1.0</td>\n",
              "      <td>0</td>\n",
              "      <td>0</td>\n",
              "      <td>0</td>\n",
              "      <td>0</td>\n",
              "      <td>0</td>\n",
              "      <td>0</td>\n",
              "      <td>0</td>\n",
              "      <td>0</td>\n",
              "      <td>...</td>\n",
              "      <td>0</td>\n",
              "      <td>0</td>\n",
              "      <td>0</td>\n",
              "      <td>0</td>\n",
              "      <td>0</td>\n",
              "      <td>1</td>\n",
              "      <td>0</td>\n",
              "      <td>0</td>\n",
              "      <td>0</td>\n",
              "      <td>0</td>\n",
              "    </tr>\n",
              "    <tr>\n",
              "      <th>2022-01-12</th>\n",
              "      <td>20</td>\n",
              "      <td>7.0</td>\n",
              "      <td>0</td>\n",
              "      <td>0</td>\n",
              "      <td>0</td>\n",
              "      <td>0</td>\n",
              "      <td>0</td>\n",
              "      <td>0</td>\n",
              "      <td>0</td>\n",
              "      <td>0</td>\n",
              "      <td>...</td>\n",
              "      <td>0</td>\n",
              "      <td>0</td>\n",
              "      <td>0</td>\n",
              "      <td>0</td>\n",
              "      <td>0</td>\n",
              "      <td>1</td>\n",
              "      <td>0</td>\n",
              "      <td>0</td>\n",
              "      <td>0</td>\n",
              "      <td>0</td>\n",
              "    </tr>\n",
              "    <tr>\n",
              "      <th>2022-01-12</th>\n",
              "      <td>24</td>\n",
              "      <td>3.0</td>\n",
              "      <td>0</td>\n",
              "      <td>0</td>\n",
              "      <td>0</td>\n",
              "      <td>0</td>\n",
              "      <td>0</td>\n",
              "      <td>0</td>\n",
              "      <td>0</td>\n",
              "      <td>0</td>\n",
              "      <td>...</td>\n",
              "      <td>0</td>\n",
              "      <td>0</td>\n",
              "      <td>0</td>\n",
              "      <td>0</td>\n",
              "      <td>0</td>\n",
              "      <td>1</td>\n",
              "      <td>0</td>\n",
              "      <td>0</td>\n",
              "      <td>0</td>\n",
              "      <td>0</td>\n",
              "    </tr>\n",
              "  </tbody>\n",
              "</table>\n",
              "<p>5 rows × 23 columns</p>\n",
              "</div>\n",
              "      <button class=\"colab-df-convert\" onclick=\"convertToInteractive('df-d516c24c-eade-4e93-b02f-1f177f836a83')\"\n",
              "              title=\"Convert this dataframe to an interactive table.\"\n",
              "              style=\"display:none;\">\n",
              "        \n",
              "  <svg xmlns=\"http://www.w3.org/2000/svg\" height=\"24px\"viewBox=\"0 0 24 24\"\n",
              "       width=\"24px\">\n",
              "    <path d=\"M0 0h24v24H0V0z\" fill=\"none\"/>\n",
              "    <path d=\"M18.56 5.44l.94 2.06.94-2.06 2.06-.94-2.06-.94-.94-2.06-.94 2.06-2.06.94zm-11 1L8.5 8.5l.94-2.06 2.06-.94-2.06-.94L8.5 2.5l-.94 2.06-2.06.94zm10 10l.94 2.06.94-2.06 2.06-.94-2.06-.94-.94-2.06-.94 2.06-2.06.94z\"/><path d=\"M17.41 7.96l-1.37-1.37c-.4-.4-.92-.59-1.43-.59-.52 0-1.04.2-1.43.59L10.3 9.45l-7.72 7.72c-.78.78-.78 2.05 0 2.83L4 21.41c.39.39.9.59 1.41.59.51 0 1.02-.2 1.41-.59l7.78-7.78 2.81-2.81c.8-.78.8-2.07 0-2.86zM5.41 20L4 18.59l7.72-7.72 1.47 1.35L5.41 20z\"/>\n",
              "  </svg>\n",
              "      </button>\n",
              "      \n",
              "  <style>\n",
              "    .colab-df-container {\n",
              "      display:flex;\n",
              "      flex-wrap:wrap;\n",
              "      gap: 12px;\n",
              "    }\n",
              "\n",
              "    .colab-df-convert {\n",
              "      background-color: #E8F0FE;\n",
              "      border: none;\n",
              "      border-radius: 50%;\n",
              "      cursor: pointer;\n",
              "      display: none;\n",
              "      fill: #1967D2;\n",
              "      height: 32px;\n",
              "      padding: 0 0 0 0;\n",
              "      width: 32px;\n",
              "    }\n",
              "\n",
              "    .colab-df-convert:hover {\n",
              "      background-color: #E2EBFA;\n",
              "      box-shadow: 0px 1px 2px rgba(60, 64, 67, 0.3), 0px 1px 3px 1px rgba(60, 64, 67, 0.15);\n",
              "      fill: #174EA6;\n",
              "    }\n",
              "\n",
              "    [theme=dark] .colab-df-convert {\n",
              "      background-color: #3B4455;\n",
              "      fill: #D2E3FC;\n",
              "    }\n",
              "\n",
              "    [theme=dark] .colab-df-convert:hover {\n",
              "      background-color: #434B5C;\n",
              "      box-shadow: 0px 1px 3px 1px rgba(0, 0, 0, 0.15);\n",
              "      filter: drop-shadow(0px 1px 2px rgba(0, 0, 0, 0.3));\n",
              "      fill: #FFFFFF;\n",
              "    }\n",
              "  </style>\n",
              "\n",
              "      <script>\n",
              "        const buttonEl =\n",
              "          document.querySelector('#df-d516c24c-eade-4e93-b02f-1f177f836a83 button.colab-df-convert');\n",
              "        buttonEl.style.display =\n",
              "          google.colab.kernel.accessAllowed ? 'block' : 'none';\n",
              "\n",
              "        async function convertToInteractive(key) {\n",
              "          const element = document.querySelector('#df-d516c24c-eade-4e93-b02f-1f177f836a83');\n",
              "          const dataTable =\n",
              "            await google.colab.kernel.invokeFunction('convertToInteractive',\n",
              "                                                     [key], {});\n",
              "          if (!dataTable) return;\n",
              "\n",
              "          const docLinkHtml = 'Like what you see? Visit the ' +\n",
              "            '<a target=\"_blank\" href=https://colab.research.google.com/notebooks/data_table.ipynb>data table notebook</a>'\n",
              "            + ' to learn more about interactive tables.';\n",
              "          element.innerHTML = '';\n",
              "          dataTable['output_type'] = 'display_data';\n",
              "          await google.colab.output.renderOutput(dataTable, element);\n",
              "          const docLink = document.createElement('div');\n",
              "          docLink.innerHTML = docLinkHtml;\n",
              "          element.appendChild(docLink);\n",
              "        }\n",
              "      </script>\n",
              "    </div>\n",
              "  </div>\n",
              "  "
            ]
          },
          "metadata": {},
          "execution_count": 29
        }
      ]
    },
    {
      "cell_type": "markdown",
      "metadata": {
        "id": "xdir6v3qiprM"
      },
      "source": [
        "**Create the Model**"
      ]
    },
    {
      "cell_type": "code",
      "execution_count": 30,
      "metadata": {
        "id": "2Sk4ZPY7jARj"
      },
      "outputs": [],
      "source": [
        "#DataFrame.dtypes for data must be int, float or bool, so we are removing 'ITEM_ID' and 'DATE1'\n",
        "FEATURES = ['SLS_CNTR_ID', 'isSalaryweek', 'AcademicCalendarSemester', 'isWeekend', 'isRamadan', 'isRamadanEnd', 'isEid', 'isNationalday']\n",
        "TARGET = 'QTY'\n",
        "\n",
        "X_train = train[FEATURES]\n",
        "y_train = train[TARGET]\n",
        "\n",
        "X_test = test[FEATURES]\n",
        "y_test = test[TARGET]"
      ]
    },
    {
      "cell_type": "code",
      "source": [
        "model = xgb.XGBRegressor(base_score=0.5, booster='gbtree',    \n",
        "                       n_estimators=1000,\n",
        "                       early_stopping_rounds=50,\n",
        "                       objective='reg:squarederror', # instead of 'reg:linear' that is deprecated \n",
        "                       max_depth=3,\n",
        "                       learning_rate=0.01)"
      ],
      "metadata": {
        "id": "p0xnlAFsyWR1"
      },
      "execution_count": 31,
      "outputs": []
    },
    {
      "cell_type": "code",
      "execution_count": 36,
      "metadata": {
        "id": "zaanp2MajIIa",
        "colab": {
          "base_uri": "https://localhost:8080/"
        },
        "outputId": "d629f9fe-d854-4977-ee7d-0124b9c95228"
      },
      "outputs": [
        {
          "output_type": "stream",
          "name": "stdout",
          "text": [
            "[0]\tvalidation_0-rmse:10.5772\tvalidation_1-rmse:5.83032\n",
            "[100]\tvalidation_0-rmse:7.68945\tvalidation_1-rmse:4.0241\n",
            "[200]\tvalidation_0-rmse:7.08635\tvalidation_1-rmse:4.32878\n",
            "[300]\tvalidation_0-rmse:6.91316\tvalidation_1-rmse:4.52555\n",
            "[400]\tvalidation_0-rmse:6.83332\tvalidation_1-rmse:4.60599\n",
            "[500]\tvalidation_0-rmse:6.77785\tvalidation_1-rmse:4.63164\n",
            "[600]\tvalidation_0-rmse:6.7378\tvalidation_1-rmse:4.64469\n",
            "[700]\tvalidation_0-rmse:6.71203\tvalidation_1-rmse:4.66854\n",
            "[800]\tvalidation_0-rmse:6.69054\tvalidation_1-rmse:4.70104\n",
            "[900]\tvalidation_0-rmse:6.67374\tvalidation_1-rmse:4.74411\n",
            "[999]\tvalidation_0-rmse:6.66188\tvalidation_1-rmse:4.77785\n"
          ]
        },
        {
          "output_type": "execute_result",
          "data": {
            "text/plain": [
              "XGBRegressor(early_stopping_rounds=50, learning_rate=0.01, n_estimators=1000,\n",
              "             objective='reg:squarederror')"
            ]
          },
          "metadata": {},
          "execution_count": 36
        }
      ],
      "source": [
        "model.fit(X_train, y_train,\n",
        "        eval_set=[(X_train, y_train), (X_test, y_test)],\n",
        "        verbose=100)"
      ]
    },
    {
      "cell_type": "markdown",
      "source": [
        "Save the model"
      ],
      "metadata": {
        "id": "7Sv9_adAxlox"
      }
    },
    {
      "cell_type": "code",
      "source": [
        "with open(pathData + 'model.pk', 'wb') as f:\n",
        "  pickle.dump(model, f)"
      ],
      "metadata": {
        "id": "WedLXfCHxdqX"
      },
      "execution_count": null,
      "outputs": []
    },
    {
      "cell_type": "markdown",
      "metadata": {
        "id": "m7YmFI8UjU5T"
      },
      "source": [
        "**Feature Importance**"
      ]
    },
    {
      "cell_type": "code",
      "source": [
        "# get importance\n",
        "importance = model.feature_importances_\n",
        "# summarize feature importance\n",
        "for i,v in enumerate(importance):\n",
        "\tprint('Feature: %0d [%s], Score: %.5f' % (i, FEATURES[i], v))\n",
        "#FEATURES = ['SLS_CNTR_ID', 'isSalaryweek', 'AcademicCalendarSemester', 'isWeekend', 'isRamadan', 'isRamadanEnd', 'isEid', 'isNationalday']"
      ],
      "metadata": {
        "id": "slfy6uhoHzWS",
        "outputId": "3d5696c5-ffa0-4a7c-badf-57598b978b57",
        "colab": {
          "base_uri": "https://localhost:8080/"
        }
      },
      "execution_count": 42,
      "outputs": [
        {
          "output_type": "stream",
          "name": "stdout",
          "text": [
            "Feature: 0 [SLS_CNTR_ID], Score: 0.53815\n",
            "Feature: 1 [isSalaryweek], Score: 0.06931\n",
            "Feature: 2 [AcademicCalendarSemester], Score: 0.06292\n",
            "Feature: 3 [isWeekend], Score: 0.06912\n",
            "Feature: 4 [isRamadan], Score: 0.10483\n",
            "Feature: 5 [isRamadanEnd], Score: 0.11808\n",
            "Feature: 6 [isEid], Score: 0.02784\n",
            "Feature: 7 [isNationalday], Score: 0.00973\n"
          ]
        }
      ]
    },
    {
      "cell_type": "code",
      "execution_count": 43,
      "metadata": {
        "id": "grZw_xPljWN3",
        "colab": {
          "base_uri": "https://localhost:8080/",
          "height": 295
        },
        "outputId": "6027a05e-8f08-454f-d3d3-c4288732daab"
      },
      "outputs": [
        {
          "output_type": "display_data",
          "data": {
            "text/plain": [
              "<Figure size 432x288 with 1 Axes>"
            ],
            "image/png": "[encoded data removed]"
          },
          "metadata": {
            "needs_background": "light"
          }
        }
      ],
      "source": [
        "#from xgboost import XGBRegressor\n",
        "from xgboost import plot_importance\n",
        "# plot feature importance\n",
        "plot_importance(model)\n",
        "plt.show()"
      ]
    },
    {
      "cell_type": "markdown",
      "metadata": {
        "id": "BuP8JJfljfAc"
      },
      "source": [
        "**Forecast on Test**"
      ]
    },
    {
      "cell_type": "code",
      "source": [
        "test = test.drop(columns=['prediction'])"
      ],
      "metadata": {
        "id": "YUe0-61b0KpO"
      },
      "execution_count": 48,
      "outputs": []
    },
    {
      "cell_type": "code",
      "source": [
        "test['prediction'] = model.predict(X_test)"
      ],
      "metadata": {
        "id": "76EiX8UN7xxV"
      },
      "execution_count": 49,
      "outputs": []
    },
    {
      "cell_type": "code",
      "source": [
        "fig, ax = plt.subplots(figsize=(25, 5))\n",
        "plt.plot(test['QTY'], label='Historical Data')\n",
        "plt.plot(test['prediction'], label='Predicted Data')\n",
        "plt.ylabel('Qty')\n",
        "plt.legend(['Historical Data', 'Predicted Data'])\n",
        "plt.show()"
      ],
      "metadata": {
        "id": "inOtkBjw7GFs",
        "outputId": "85ad8bb4-7702-4fe6-f9ca-20e75f7814fc",
        "colab": {
          "base_uri": "https://localhost:8080/",
          "height": 289
        }
      },
      "execution_count": 50,
      "outputs": [
        {
          "output_type": "display_data",
          "data": {
            "text/plain": [
              "<Figure size 1800x360 with 1 Axes>"
            ],
            "image/png": "[encoded data removed]"
          },
          "metadata": {
            "needs_background": "light"
          }
        }
      ]
    },
    {
      "cell_type": "code",
      "source": [
        "span = test.loc[(test.index.get_level_values('DATE1') >= '2022-04-01') & (test.index.get_level_values('DATE1') < '2022-06-01')]\n",
        "fig, ax = plt.subplots(figsize=(25, 5))\n",
        "plt.plot(span['QTY'], label='Historical Data')\n",
        "plt.plot(span['prediction'], label='Predicted Data')\n",
        "plt.ylabel('Qty')\n",
        "plt.legend(['Historical Data', 'Predicted Data'])\n",
        "plt.show()"
      ],
      "metadata": {
        "id": "Kopj01-z8Fa6",
        "outputId": "e556f3ef-ecfc-4f2e-8e95-dd5f133b47c3",
        "colab": {
          "base_uri": "https://localhost:8080/",
          "height": 293
        }
      },
      "execution_count": 64,
      "outputs": [
        {
          "output_type": "display_data",
          "data": {
            "text/plain": [
              "<Figure size 1800x360 with 1 Axes>"
            ],
            "image/png": "[encoded data removed]"
          },
          "metadata": {
            "needs_background": "light"
          }
        }
      ]
    },
    {
      "cell_type": "markdown",
      "metadata": {
        "id": "KUCE9GbUj0aX"
      },
      "source": [
        "**Score (RMSE)**"
      ]
    },
    {
      "cell_type": "code",
      "execution_count": 51,
      "metadata": {
        "id": "RzXkkmxRj4Jg",
        "outputId": "4edfe8de-5aac-4a0f-d57d-fb355c94a2e4",
        "colab": {
          "base_uri": "https://localhost:8080/"
        }
      },
      "outputs": [
        {
          "output_type": "stream",
          "name": "stdout",
          "text": [
            "RMSE Score on Test set: 4.78\n"
          ]
        }
      ],
      "source": [
        "score = np.sqrt(mean_squared_error(test['QTY'], test['prediction']))\n",
        "print(f'RMSE Score on Test set: {score:0.2f}')"
      ]
    },
    {
      "cell_type": "markdown",
      "metadata": {
        "id": "Y8AN_o2lkRR2"
      },
      "source": [
        "**Calculate Error**\n",
        "\n",
        "\n",
        "*   Look at the worst and best predicted days"
      ]
    },
    {
      "cell_type": "code",
      "execution_count": 52,
      "metadata": {
        "id": "eDrIFpBTke8J",
        "outputId": "ce65055e-09b1-4398-ed42-952802bdea03",
        "colab": {
          "base_uri": "https://localhost:8080/"
        }
      },
      "outputs": [
        {
          "output_type": "execute_result",
          "data": {
            "text/plain": [
              "date\n",
              "2022-05-01    12.383084\n",
              "2022-04-30     9.617967\n",
              "2022-04-29     8.913256\n",
              "2022-07-08     7.379810\n",
              "2022-04-24     7.117672\n",
              "2022-06-04     5.696013\n",
              "2022-02-26     5.194367\n",
              "2022-01-02     5.021267\n",
              "2022-05-14     4.944590\n",
              "2022-05-28     4.941024\n",
              "Name: error, dtype: float64"
            ]
          },
          "metadata": {},
          "execution_count": 52
        }
      ],
      "source": [
        "test['error'] = np.abs(test[TARGET] - test['prediction'])\n",
        "test['date'] = test.index.date\n",
        "test.groupby(['date'])['error'].mean().sort_values(ascending=False).head(10)"
      ]
    }
  ],
  "metadata": {
    "accelerator": "GPU",
    "colab": {
      "collapsed_sections": [],
      "name": "05_TrainModel",
      "provenance": [],
      "include_colab_link": true
    },
    "kernelspec": {
      "display_name": "Python 3",
      "name": "python3"
    }
  },
  "nbformat": 4,
  "nbformat_minor": 0
}