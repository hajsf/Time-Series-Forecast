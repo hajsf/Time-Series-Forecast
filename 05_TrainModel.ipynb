{
  "cells": [
    {
      "cell_type": "markdown",
      "metadata": {
        "id": "view-in-github",
        "colab_type": "text"
      },
      "source": [
        "<a href=\"https://colab.research.google.com/github/hajsf/Time-Series-Forecast/blob/main/05_TrainModel.ipynb\" target=\"_parent\"><img src=\"https://colab.research.google.com/assets/colab-badge.svg\" alt=\"Open In Colab\"/></a>"
      ]
    },
    {
      "cell_type": "markdown",
      "metadata": {
        "id": "bEp9tZLZmLvl"
      },
      "source": [
        "Mount google drive"
      ]
    },
    {
      "cell_type": "code",
      "execution_count": null,
      "metadata": {
        "id": "xCiQK9EymKri",
        "colab": {
          "base_uri": "https://localhost:8080/"
        },
        "outputId": "806ccff8-6d6d-4775-b5a9-e20ee740cbc6"
      },
      "outputs": [
        {
          "output_type": "stream",
          "name": "stdout",
          "text": [
            "Mounted at /content/drive\n"
          ]
        }
      ],
      "source": [
        "from google.colab import drive\n",
        "drive.mount('/content/drive', force_remount=True)"
      ]
    },
    {
      "cell_type": "code",
      "source": [
        "import pandas as pd\n",
        "import glob\n",
        "import numpy as np"
      ],
      "metadata": {
        "id": "vFgtZTRq63k5"
      },
      "execution_count": null,
      "outputs": []
    },
    {
      "cell_type": "code",
      "execution_count": null,
      "metadata": {
        "id": "h2LQvqXbpQpx"
      },
      "outputs": [],
      "source": [
        "# import required library\n",
        "import matplotlib.pyplot as plt\n",
        "import seaborn as sns\n",
        "import xgboost as xgb\n",
        "from sklearn.metrics import mean_squared_error\n",
        "import pickle"
      ]
    },
    {
      "cell_type": "markdown",
      "metadata": {
        "id": "ExreCoBoa1b9"
      },
      "source": [
        "**Read the pickle files**\n",
        "\n",
        "\n",
        "\n"
      ]
    },
    {
      "cell_type": "code",
      "source": [
        "pathData = \"/content/drive/MyDrive/ColabNotebooks/dataset/02_ProcessedData/\""
      ],
      "metadata": {
        "id": "vrDDwi4cywry"
      },
      "execution_count": null,
      "outputs": []
    },
    {
      "cell_type": "code",
      "execution_count": null,
      "metadata": {
        "id": "bSn40j76mKrz",
        "colab": {
          "base_uri": "https://localhost:8080/",
          "height": 250
        },
        "outputId": "814a532c-7039-4e9a-b8ce-cc9aa149b347"
      },
      "outputs": [
        {
          "output_type": "execute_result",
          "data": {
            "text/plain": [
              "     ITEM_ID  SLS_CNTR_ID      DATE1  QTY  isSalaryweek  isWeekend  \\\n",
              "0       0020           13 2022-01-12  1.0             0          0   \n",
              "1       0035           13 2022-01-12  3.0             0          0   \n",
              "2       0035           28 2022-01-12  2.0             0          0   \n",
              "3  011810029           18 2022-01-12  1.0             0          0   \n",
              "4  100000103           48 2022-01-12  1.0             0          0   \n",
              "\n",
              "   isNationalday  isRamadan  isRamadanEnd  isEid  Monthday  Holiday  \\\n",
              "0              0          0             0      0        12        0   \n",
              "1              0          0             0      0        12        0   \n",
              "2              0          0             0      0        12        0   \n",
              "3              0          0             0      0        12        0   \n",
              "4              0          0             0      0        12        0   \n",
              "\n",
              "   AcademicCalendarSemester  \n",
              "0                         0  \n",
              "1                         0  \n",
              "2                         0  \n",
              "3                         0  \n",
              "4                         0  "
            ],
            "text/html": [
              "\n",
              "  <div id=\"df-dd38e805-63f3-4c19-8c98-acf10ae4e6b6\">\n",
              "    <div class=\"colab-df-container\">\n",
              "      <div>\n",
              "<style scoped>\n",
              "    .dataframe tbody tr th:only-of-type {\n",
              "        vertical-align: middle;\n",
              "    }\n",
              "\n",
              "    .dataframe tbody tr th {\n",
              "        vertical-align: top;\n",
              "    }\n",
              "\n",
              "    .dataframe thead th {\n",
              "        text-align: right;\n",
              "    }\n",
              "</style>\n",
              "<table border=\"1\" class=\"dataframe\">\n",
              "  <thead>\n",
              "    <tr style=\"text-align: right;\">\n",
              "      <th></th>\n",
              "      <th>ITEM_ID</th>\n",
              "      <th>SLS_CNTR_ID</th>\n",
              "      <th>DATE1</th>\n",
              "      <th>QTY</th>\n",
              "      <th>isSalaryweek</th>\n",
              "      <th>isWeekend</th>\n",
              "      <th>isNationalday</th>\n",
              "      <th>isRamadan</th>\n",
              "      <th>isRamadanEnd</th>\n",
              "      <th>isEid</th>\n",
              "      <th>Monthday</th>\n",
              "      <th>Holiday</th>\n",
              "      <th>AcademicCalendarSemester</th>\n",
              "    </tr>\n",
              "  </thead>\n",
              "  <tbody>\n",
              "    <tr>\n",
              "      <th>0</th>\n",
              "      <td>0020</td>\n",
              "      <td>13</td>\n",
              "      <td>2022-01-12</td>\n",
              "      <td>1.0</td>\n",
              "      <td>0</td>\n",
              "      <td>0</td>\n",
              "      <td>0</td>\n",
              "      <td>0</td>\n",
              "      <td>0</td>\n",
              "      <td>0</td>\n",
              "      <td>12</td>\n",
              "      <td>0</td>\n",
              "      <td>0</td>\n",
              "    </tr>\n",
              "    <tr>\n",
              "      <th>1</th>\n",
              "      <td>0035</td>\n",
              "      <td>13</td>\n",
              "      <td>2022-01-12</td>\n",
              "      <td>3.0</td>\n",
              "      <td>0</td>\n",
              "      <td>0</td>\n",
              "      <td>0</td>\n",
              "      <td>0</td>\n",
              "      <td>0</td>\n",
              "      <td>0</td>\n",
              "      <td>12</td>\n",
              "      <td>0</td>\n",
              "      <td>0</td>\n",
              "    </tr>\n",
              "    <tr>\n",
              "      <th>2</th>\n",
              "      <td>0035</td>\n",
              "      <td>28</td>\n",
              "      <td>2022-01-12</td>\n",
              "      <td>2.0</td>\n",
              "      <td>0</td>\n",
              "      <td>0</td>\n",
              "      <td>0</td>\n",
              "      <td>0</td>\n",
              "      <td>0</td>\n",
              "      <td>0</td>\n",
              "      <td>12</td>\n",
              "      <td>0</td>\n",
              "      <td>0</td>\n",
              "    </tr>\n",
              "    <tr>\n",
              "      <th>3</th>\n",
              "      <td>011810029</td>\n",
              "      <td>18</td>\n",
              "      <td>2022-01-12</td>\n",
              "      <td>1.0</td>\n",
              "      <td>0</td>\n",
              "      <td>0</td>\n",
              "      <td>0</td>\n",
              "      <td>0</td>\n",
              "      <td>0</td>\n",
              "      <td>0</td>\n",
              "      <td>12</td>\n",
              "      <td>0</td>\n",
              "      <td>0</td>\n",
              "    </tr>\n",
              "    <tr>\n",
              "      <th>4</th>\n",
              "      <td>100000103</td>\n",
              "      <td>48</td>\n",
              "      <td>2022-01-12</td>\n",
              "      <td>1.0</td>\n",
              "      <td>0</td>\n",
              "      <td>0</td>\n",
              "      <td>0</td>\n",
              "      <td>0</td>\n",
              "      <td>0</td>\n",
              "      <td>0</td>\n",
              "      <td>12</td>\n",
              "      <td>0</td>\n",
              "      <td>0</td>\n",
              "    </tr>\n",
              "  </tbody>\n",
              "</table>\n",
              "</div>\n",
              "      <button class=\"colab-df-convert\" onclick=\"convertToInteractive('df-dd38e805-63f3-4c19-8c98-acf10ae4e6b6')\"\n",
              "              title=\"Convert this dataframe to an interactive table.\"\n",
              "              style=\"display:none;\">\n",
              "        \n",
              "  <svg xmlns=\"http://www.w3.org/2000/svg\" height=\"24px\"viewBox=\"0 0 24 24\"\n",
              "       width=\"24px\">\n",
              "    <path d=\"M0 0h24v24H0V0z\" fill=\"none\"/>\n",
              "    <path d=\"M18.56 5.44l.94 2.06.94-2.06 2.06-.94-2.06-.94-.94-2.06-.94 2.06-2.06.94zm-11 1L8.5 8.5l.94-2.06 2.06-.94-2.06-.94L8.5 2.5l-.94 2.06-2.06.94zm10 10l.94 2.06.94-2.06 2.06-.94-2.06-.94-.94-2.06-.94 2.06-2.06.94z\"/><path d=\"M17.41 7.96l-1.37-1.37c-.4-.4-.92-.59-1.43-.59-.52 0-1.04.2-1.43.59L10.3 9.45l-7.72 7.72c-.78.78-.78 2.05 0 2.83L4 21.41c.39.39.9.59 1.41.59.51 0 1.02-.2 1.41-.59l7.78-7.78 2.81-2.81c.8-.78.8-2.07 0-2.86zM5.41 20L4 18.59l7.72-7.72 1.47 1.35L5.41 20z\"/>\n",
              "  </svg>\n",
              "      </button>\n",
              "      \n",
              "  <style>\n",
              "    .colab-df-container {\n",
              "      display:flex;\n",
              "      flex-wrap:wrap;\n",
              "      gap: 12px;\n",
              "    }\n",
              "\n",
              "    .colab-df-convert {\n",
              "      background-color: #E8F0FE;\n",
              "      border: none;\n",
              "      border-radius: 50%;\n",
              "      cursor: pointer;\n",
              "      display: none;\n",
              "      fill: #1967D2;\n",
              "      height: 32px;\n",
              "      padding: 0 0 0 0;\n",
              "      width: 32px;\n",
              "    }\n",
              "\n",
              "    .colab-df-convert:hover {\n",
              "      background-color: #E2EBFA;\n",
              "      box-shadow: 0px 1px 2px rgba(60, 64, 67, 0.3), 0px 1px 3px 1px rgba(60, 64, 67, 0.15);\n",
              "      fill: #174EA6;\n",
              "    }\n",
              "\n",
              "    [theme=dark] .colab-df-convert {\n",
              "      background-color: #3B4455;\n",
              "      fill: #D2E3FC;\n",
              "    }\n",
              "\n",
              "    [theme=dark] .colab-df-convert:hover {\n",
              "      background-color: #434B5C;\n",
              "      box-shadow: 0px 1px 3px 1px rgba(0, 0, 0, 0.15);\n",
              "      filter: drop-shadow(0px 1px 2px rgba(0, 0, 0, 0.3));\n",
              "      fill: #FFFFFF;\n",
              "    }\n",
              "  </style>\n",
              "\n",
              "      <script>\n",
              "        const buttonEl =\n",
              "          document.querySelector('#df-dd38e805-63f3-4c19-8c98-acf10ae4e6b6 button.colab-df-convert');\n",
              "        buttonEl.style.display =\n",
              "          google.colab.kernel.accessAllowed ? 'block' : 'none';\n",
              "\n",
              "        async function convertToInteractive(key) {\n",
              "          const element = document.querySelector('#df-dd38e805-63f3-4c19-8c98-acf10ae4e6b6');\n",
              "          const dataTable =\n",
              "            await google.colab.kernel.invokeFunction('convertToInteractive',\n",
              "                                                     [key], {});\n",
              "          if (!dataTable) return;\n",
              "\n",
              "          const docLinkHtml = 'Like what you see? Visit the ' +\n",
              "            '<a target=\"_blank\" href=https://colab.research.google.com/notebooks/data_table.ipynb>data table notebook</a>'\n",
              "            + ' to learn more about interactive tables.';\n",
              "          element.innerHTML = '';\n",
              "          dataTable['output_type'] = 'display_data';\n",
              "          await google.colab.output.renderOutput(dataTable, element);\n",
              "          const docLink = document.createElement('div');\n",
              "          docLink.innerHTML = docLinkHtml;\n",
              "          element.appendChild(docLink);\n",
              "        }\n",
              "      </script>\n",
              "    </div>\n",
              "  </div>\n",
              "  "
            ]
          },
          "metadata": {},
          "execution_count": 13
        }
      ],
      "source": [
        "with open(pathData + 'readyForTraining.pk', 'rb') as f:\n",
        "  df = pickle.load(f)\n",
        "df.head()"
      ]
    },
    {
      "cell_type": "code",
      "source": [
        "print(\"number of records:\", len(df))"
      ],
      "metadata": {
        "id": "ljJlXw_SzL0X",
        "colab": {
          "base_uri": "https://localhost:8080/"
        },
        "outputId": "6f4c104e-a1f2-490d-d46c-9d8c45ff9212"
      },
      "execution_count": null,
      "outputs": [
        {
          "output_type": "stream",
          "name": "stdout",
          "text": [
            "number of records: 7288431\n"
          ]
        }
      ]
    },
    {
      "cell_type": "code",
      "source": [
        "df.set_index(\"DATE1\", inplace = True)"
      ],
      "metadata": {
        "id": "VHZnJwmqrph_"
      },
      "execution_count": null,
      "outputs": []
    },
    {
      "cell_type": "markdown",
      "metadata": {
        "id": "nJnstCHlh7G4"
      },
      "source": [
        "**Train / Test Split**"
      ]
    },
    {
      "cell_type": "code",
      "execution_count": null,
      "metadata": {
        "id": "7Glv1iOVh9ua",
        "colab": {
          "base_uri": "https://localhost:8080/",
          "height": 334
        },
        "outputId": "99f74d59-4642-486f-e480-cf839d4e3748"
      },
      "outputs": [
        {
          "output_type": "display_data",
          "data": {
            "text/plain": [
              "<Figure size 1080x360 with 1 Axes>"
            ],
            "image/png": "[encoded data removed]"
          },
          "metadata": {
            "needs_background": "light"
          }
        }
      ],
      "source": [
        "train = df.loc[df.index.get_level_values('DATE1') < '2022-05-01'] # df.index.get_level_values('DATE1').dayofweek == 0\n",
        "test = df.loc[df.index.get_level_values('DATE1') >= '2022-05-01']\n",
        "\n",
        "fig, ax = plt.subplots(figsize=(15, 5))\n",
        "train.plot(ax=ax, label='Training Set', title='Data Train/Test Split')\n",
        "test.plot(ax=ax, label='Test Set')\n",
        "ax.axvline('2022-05-01', color='black', ls='--')\n",
        "ax.legend(['Training Set', 'Test Set'])\n",
        "plt.show()"
      ]
    },
    {
      "cell_type": "markdown",
      "metadata": {
        "id": "xdir6v3qiprM"
      },
      "source": [
        "**Create the Model**"
      ]
    },
    {
      "cell_type": "code",
      "execution_count": null,
      "metadata": {
        "id": "2Sk4ZPY7jARj"
      },
      "outputs": [],
      "source": [
        "#DataFrame.dtypes for data must be int, float or bool, so we are removing 'ITEM_ID' and 'DATE1'\n",
        "FEATURES = ['SLS_CNTR_ID', 'isSalaryweek', 'AcademicCalendarSemester', 'isWeekend', 'isEid']\n",
        "TARGET = 'QTY'\n",
        "\n",
        "X_train = train[FEATURES]\n",
        "y_train = train[TARGET]\n",
        "\n",
        "X_test = test[FEATURES]\n",
        "y_test = test[TARGET]"
      ]
    },
    {
      "cell_type": "code",
      "source": [
        "reg = xgb.XGBRegressor(base_score=0.5, booster='gbtree',    \n",
        "                       n_estimators=1000,\n",
        "                       early_stopping_rounds=50,\n",
        "                       objective='reg:squarederror', # instead of 'reg:linear' that is deprecated \n",
        "                       max_depth=3,\n",
        "                       learning_rate=0.01)"
      ],
      "metadata": {
        "id": "p0xnlAFsyWR1"
      },
      "execution_count": null,
      "outputs": []
    },
    {
      "cell_type": "code",
      "execution_count": null,
      "metadata": {
        "id": "zaanp2MajIIa",
        "colab": {
          "base_uri": "https://localhost:8080/"
        },
        "outputId": "7bb1eb71-eedc-49e7-f842-1f848f9021ef"
      },
      "outputs": [
        {
          "output_type": "stream",
          "name": "stdout",
          "text": [
            "[20:30:23] WARNING: /workspace/src/learner.cc:686: Tree method is automatically selected to be 'approx' for faster speed. To use old behavior (exact greedy algorithm on single machine), set tree_method to 'exact'.\n",
            "[0]\tvalidation_0-rmse:77.6084\tvalidation_1-rmse:52.3432\n",
            "[100]\tvalidation_0-rmse:76.7227\tvalidation_1-rmse:50.8805\n",
            "[200]\tvalidation_0-rmse:76.3536\tvalidation_1-rmse:50.2728\n",
            "[300]\tvalidation_0-rmse:76.1655\tvalidation_1-rmse:50.0278\n",
            "[400]\tvalidation_0-rmse:76.0895\tvalidation_1-rmse:49.8927\n"
          ]
        }
      ],
      "source": [
        "reg.fit(X_train, y_train,\n",
        "        eval_set=[(X_train, y_train), (X_test, y_test)],\n",
        "        verbose=100)"
      ]
    },
    {
      "cell_type": "markdown",
      "source": [
        "Save the model"
      ],
      "metadata": {
        "id": "7Sv9_adAxlox"
      }
    },
    {
      "cell_type": "code",
      "source": [
        "with open(pathData + 'model.pk', 'wb') as f:\n",
        "  pickle.dump(reg, f)"
      ],
      "metadata": {
        "id": "WedLXfCHxdqX"
      },
      "execution_count": null,
      "outputs": []
    },
    {
      "cell_type": "markdown",
      "metadata": {
        "id": "m7YmFI8UjU5T"
      },
      "source": [
        "**Feature Importance**"
      ]
    },
    {
      "cell_type": "code",
      "execution_count": null,
      "metadata": {
        "id": "grZw_xPljWN3"
      },
      "outputs": [],
      "source": [
        "#from xgboost import XGBRegressor\n",
        "\n",
        "fi = pd.DataFrame(data=reg.feature_importances_,\n",
        "             index=reg.feature_names_in_,\n",
        "             columns=['importance'])\n",
        "fi.sort_values('importance').plot(kind='barh', title='Feature Importance')\n",
        "plt.show()"
      ]
    },
    {
      "cell_type": "markdown",
      "metadata": {
        "id": "BuP8JJfljfAc"
      },
      "source": [
        "**Forecast on Test**"
      ]
    },
    {
      "cell_type": "code",
      "execution_count": null,
      "metadata": {
        "id": "sy8hQDoljeQG"
      },
      "outputs": [],
      "source": [
        "test['prediction'] = reg.predict(X_test)\n",
        "df = df.merge(test[['prediction']], how='left', left_index=True, right_index=True)\n",
        "ax = df[['salesQty']].plot(figsize=(15, 5))\n",
        "df['prediction'].plot(ax=ax, style='.')\n",
        "plt.legend(['Truth Data', 'Predictions'])\n",
        "ax.set_title('Raw Dat and Prediction')\n",
        "plt.show()"
      ]
    },
    {
      "cell_type": "code",
      "execution_count": null,
      "metadata": {
        "id": "FTjSjHxxjwul"
      },
      "outputs": [],
      "source": [
        "ax = df.loc[(df.index > '04-01-2018') & (df.index < '04-08-2018')]['PJME_MW'] \\\n",
        "    .plot(figsize=(15, 5), title='Week Of Data')\n",
        "df.loc[(df.index > '04-01-2018') & (df.index < '04-08-2018')]['prediction'] \\\n",
        "    .plot(style='.')\n",
        "plt.legend(['Truth Data','Prediction'])\n",
        "plt.show()"
      ]
    },
    {
      "cell_type": "markdown",
      "metadata": {
        "id": "KUCE9GbUj0aX"
      },
      "source": [
        "**Score (RMSE)**"
      ]
    },
    {
      "cell_type": "code",
      "execution_count": null,
      "metadata": {
        "id": "RzXkkmxRj4Jg"
      },
      "outputs": [],
      "source": [
        "score = np.sqrt(mean_squared_error(test['salesQty'], test['prediction']))\n",
        "print(f'RMSE Score on Test set: {score:0.2f}')"
      ]
    },
    {
      "cell_type": "markdown",
      "metadata": {
        "id": "Y8AN_o2lkRR2"
      },
      "source": [
        "**Calculate Error**\n",
        "\n",
        "\n",
        "*   Look at the worst and best predicted days"
      ]
    },
    {
      "cell_type": "code",
      "execution_count": null,
      "metadata": {
        "id": "eDrIFpBTke8J"
      },
      "outputs": [],
      "source": [
        "test['error'] = np.abs(test[TARGET] - test['prediction'])\n",
        "test['date'] = test.index.date\n",
        "test.groupby(['date'])['error'].mean().sort_values(ascending=False).head(10)"
      ]
    },
    {
      "cell_type": "markdown",
      "metadata": {
        "id": "9J-1kODSkj8i"
      },
      "source": [
        "**Save weights**\n",
        "\n",
        "\n",
        "*   Save the model and its weights to be used for predection with other set of data\n",
        "\n"
      ]
    },
    {
      "cell_type": "code",
      "execution_count": null,
      "metadata": {
        "id": "dxj9xYzMkoD6"
      },
      "outputs": [],
      "source": [
        ""
      ]
    }
  ],
  "metadata": {
    "accelerator": "GPU",
    "colab": {
      "collapsed_sections": [],
      "name": "05_TrainModel",
      "provenance": [],
      "include_colab_link": true
    },
    "kernelspec": {
      "display_name": "Python 3",
      "name": "python3"
    }
  },
  "nbformat": 4,
  "nbformat_minor": 0
}