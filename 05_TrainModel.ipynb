{
  "cells": [
    {
      "cell_type": "markdown",
      "metadata": {
        "id": "view-in-github",
        "colab_type": "text"
      },
      "source": [
        "<a href=\"https://colab.research.google.com/github/hajsf/Time-Series-Forecast/blob/main/05_TrainModel.ipynb\" target=\"_parent\"><img src=\"https://colab.research.google.com/assets/colab-badge.svg\" alt=\"Open In Colab\"/></a>"
      ]
    },
    {
      "cell_type": "markdown",
      "metadata": {
        "id": "bEp9tZLZmLvl"
      },
      "source": [
        "Mount google drive"
      ]
    },
    {
      "cell_type": "code",
      "execution_count": 1,
      "metadata": {
        "id": "xCiQK9EymKri",
        "colab": {
          "base_uri": "https://localhost:8080/"
        },
        "outputId": "e93e24f2-f50f-4fea-e53a-c90c496dc127"
      },
      "outputs": [
        {
          "output_type": "stream",
          "name": "stdout",
          "text": [
            "Mounted at /content/drive\n"
          ]
        }
      ],
      "source": [
        "from google.colab import drive\n",
        "drive.mount('/content/drive', force_remount=True)"
      ]
    },
    {
      "cell_type": "code",
      "source": [
        "import pandas as pd\n",
        "import glob\n",
        "import numpy as np"
      ],
      "metadata": {
        "id": "vFgtZTRq63k5"
      },
      "execution_count": 2,
      "outputs": []
    },
    {
      "cell_type": "code",
      "execution_count": 3,
      "metadata": {
        "id": "h2LQvqXbpQpx"
      },
      "outputs": [],
      "source": [
        "# import required library\n",
        "import matplotlib.pyplot as plt\n",
        "import seaborn as sns\n",
        "import xgboost as xgb\n",
        "from sklearn.metrics import mean_squared_error\n",
        "import pickle"
      ]
    },
    {
      "cell_type": "markdown",
      "metadata": {
        "id": "ExreCoBoa1b9"
      },
      "source": [
        "**Read the pickle files**\n",
        "\n",
        "\n",
        "\n"
      ]
    },
    {
      "cell_type": "code",
      "source": [
        "pathData = \"/content/drive/MyDrive/ColabNotebooks/dataset/02_ProcessedData/\""
      ],
      "metadata": {
        "id": "vrDDwi4cywry"
      },
      "execution_count": 4,
      "outputs": []
    },
    {
      "cell_type": "code",
      "execution_count": 6,
      "metadata": {
        "id": "bSn40j76mKrz",
        "colab": {
          "base_uri": "https://localhost:8080/",
          "height": 386
        },
        "outputId": "c4109c93-5f03-429e-c8fe-c340f4eb99aa"
      },
      "outputs": [
        {
          "output_type": "execute_result",
          "data": {
            "text/plain": [
              "        SLS_CNTR_ID      DATE1   QTY  isSalaryweek  Holiday  \\\n",
              "395998            5 2022-01-12   4.0             0        0   \n",
              "395999           13 2022-01-12  22.0             0        0   \n",
              "396000           19 2022-01-12   1.0             0        0   \n",
              "396001           20 2022-01-12   7.0             0        0   \n",
              "396002           24 2022-01-12   3.0             0        0   \n",
              "\n",
              "        AcademicCalendarSemester  isWeekend  isNationalday  isRamadan  \\\n",
              "395998                         0          0              0          0   \n",
              "395999                         0          0              0          0   \n",
              "396000                         0          0              0          0   \n",
              "396001                         0          0              0          0   \n",
              "396002                         0          0              0          0   \n",
              "\n",
              "        isRamadanEnd  ...  Category_Cancelled  Category_HomeMade  \\\n",
              "395998             0  ...                   0                  0   \n",
              "395999             0  ...                   0                  0   \n",
              "396000             0  ...                   0                  0   \n",
              "396001             0  ...                   0                  0   \n",
              "396002             0  ...                   0                  0   \n",
              "\n",
              "        Category_HomeMadewithVAT  Category_Imported  Category_Itproducts  \\\n",
              "395998                         0                  0                    0   \n",
              "395999                         0                  0                    0   \n",
              "396000                         0                  0                    0   \n",
              "396001                         0                  0                    0   \n",
              "396002                         0                  0                    0   \n",
              "\n",
              "        Category_Local  Category_Packaging  Category_Partner  \\\n",
              "395998               1                   0                 0   \n",
              "395999               1                   0                 0   \n",
              "396000               1                   0                 0   \n",
              "396001               1                   0                 0   \n",
              "396002               1                   0                 0   \n",
              "\n",
              "        Category_RawMaterial  Category_SisterCompany  \n",
              "395998                     0                       0  \n",
              "395999                     0                       0  \n",
              "396000                     0                       0  \n",
              "396001                     0                       0  \n",
              "396002                     0                       0  \n",
              "\n",
              "[5 rows x 24 columns]"
            ],
            "text/html": [
              "\n",
              "  <div id=\"df-c9f16aca-f3f6-4dc2-83cf-c250a4ff2eb6\">\n",
              "    <div class=\"colab-df-container\">\n",
              "      <div>\n",
              "<style scoped>\n",
              "    .dataframe tbody tr th:only-of-type {\n",
              "        vertical-align: middle;\n",
              "    }\n",
              "\n",
              "    .dataframe tbody tr th {\n",
              "        vertical-align: top;\n",
              "    }\n",
              "\n",
              "    .dataframe thead th {\n",
              "        text-align: right;\n",
              "    }\n",
              "</style>\n",
              "<table border=\"1\" class=\"dataframe\">\n",
              "  <thead>\n",
              "    <tr style=\"text-align: right;\">\n",
              "      <th></th>\n",
              "      <th>SLS_CNTR_ID</th>\n",
              "      <th>DATE1</th>\n",
              "      <th>QTY</th>\n",
              "      <th>isSalaryweek</th>\n",
              "      <th>Holiday</th>\n",
              "      <th>AcademicCalendarSemester</th>\n",
              "      <th>isWeekend</th>\n",
              "      <th>isNationalday</th>\n",
              "      <th>isRamadan</th>\n",
              "      <th>isRamadanEnd</th>\n",
              "      <th>...</th>\n",
              "      <th>Category_Cancelled</th>\n",
              "      <th>Category_HomeMade</th>\n",
              "      <th>Category_HomeMadewithVAT</th>\n",
              "      <th>Category_Imported</th>\n",
              "      <th>Category_Itproducts</th>\n",
              "      <th>Category_Local</th>\n",
              "      <th>Category_Packaging</th>\n",
              "      <th>Category_Partner</th>\n",
              "      <th>Category_RawMaterial</th>\n",
              "      <th>Category_SisterCompany</th>\n",
              "    </tr>\n",
              "  </thead>\n",
              "  <tbody>\n",
              "    <tr>\n",
              "      <th>395998</th>\n",
              "      <td>5</td>\n",
              "      <td>2022-01-12</td>\n",
              "      <td>4.0</td>\n",
              "      <td>0</td>\n",
              "      <td>0</td>\n",
              "      <td>0</td>\n",
              "      <td>0</td>\n",
              "      <td>0</td>\n",
              "      <td>0</td>\n",
              "      <td>0</td>\n",
              "      <td>...</td>\n",
              "      <td>0</td>\n",
              "      <td>0</td>\n",
              "      <td>0</td>\n",
              "      <td>0</td>\n",
              "      <td>0</td>\n",
              "      <td>1</td>\n",
              "      <td>0</td>\n",
              "      <td>0</td>\n",
              "      <td>0</td>\n",
              "      <td>0</td>\n",
              "    </tr>\n",
              "    <tr>\n",
              "      <th>395999</th>\n",
              "      <td>13</td>\n",
              "      <td>2022-01-12</td>\n",
              "      <td>22.0</td>\n",
              "      <td>0</td>\n",
              "      <td>0</td>\n",
              "      <td>0</td>\n",
              "      <td>0</td>\n",
              "      <td>0</td>\n",
              "      <td>0</td>\n",
              "      <td>0</td>\n",
              "      <td>...</td>\n",
              "      <td>0</td>\n",
              "      <td>0</td>\n",
              "      <td>0</td>\n",
              "      <td>0</td>\n",
              "      <td>0</td>\n",
              "      <td>1</td>\n",
              "      <td>0</td>\n",
              "      <td>0</td>\n",
              "      <td>0</td>\n",
              "      <td>0</td>\n",
              "    </tr>\n",
              "    <tr>\n",
              "      <th>396000</th>\n",
              "      <td>19</td>\n",
              "      <td>2022-01-12</td>\n",
              "      <td>1.0</td>\n",
              "      <td>0</td>\n",
              "      <td>0</td>\n",
              "      <td>0</td>\n",
              "      <td>0</td>\n",
              "      <td>0</td>\n",
              "      <td>0</td>\n",
              "      <td>0</td>\n",
              "      <td>...</td>\n",
              "      <td>0</td>\n",
              "      <td>0</td>\n",
              "      <td>0</td>\n",
              "      <td>0</td>\n",
              "      <td>0</td>\n",
              "      <td>1</td>\n",
              "      <td>0</td>\n",
              "      <td>0</td>\n",
              "      <td>0</td>\n",
              "      <td>0</td>\n",
              "    </tr>\n",
              "    <tr>\n",
              "      <th>396001</th>\n",
              "      <td>20</td>\n",
              "      <td>2022-01-12</td>\n",
              "      <td>7.0</td>\n",
              "      <td>0</td>\n",
              "      <td>0</td>\n",
              "      <td>0</td>\n",
              "      <td>0</td>\n",
              "      <td>0</td>\n",
              "      <td>0</td>\n",
              "      <td>0</td>\n",
              "      <td>...</td>\n",
              "      <td>0</td>\n",
              "      <td>0</td>\n",
              "      <td>0</td>\n",
              "      <td>0</td>\n",
              "      <td>0</td>\n",
              "      <td>1</td>\n",
              "      <td>0</td>\n",
              "      <td>0</td>\n",
              "      <td>0</td>\n",
              "      <td>0</td>\n",
              "    </tr>\n",
              "    <tr>\n",
              "      <th>396002</th>\n",
              "      <td>24</td>\n",
              "      <td>2022-01-12</td>\n",
              "      <td>3.0</td>\n",
              "      <td>0</td>\n",
              "      <td>0</td>\n",
              "      <td>0</td>\n",
              "      <td>0</td>\n",
              "      <td>0</td>\n",
              "      <td>0</td>\n",
              "      <td>0</td>\n",
              "      <td>...</td>\n",
              "      <td>0</td>\n",
              "      <td>0</td>\n",
              "      <td>0</td>\n",
              "      <td>0</td>\n",
              "      <td>0</td>\n",
              "      <td>1</td>\n",
              "      <td>0</td>\n",
              "      <td>0</td>\n",
              "      <td>0</td>\n",
              "      <td>0</td>\n",
              "    </tr>\n",
              "  </tbody>\n",
              "</table>\n",
              "<p>5 rows × 24 columns</p>\n",
              "</div>\n",
              "      <button class=\"colab-df-convert\" onclick=\"convertToInteractive('df-c9f16aca-f3f6-4dc2-83cf-c250a4ff2eb6')\"\n",
              "              title=\"Convert this dataframe to an interactive table.\"\n",
              "              style=\"display:none;\">\n",
              "        \n",
              "  <svg xmlns=\"http://www.w3.org/2000/svg\" height=\"24px\"viewBox=\"0 0 24 24\"\n",
              "       width=\"24px\">\n",
              "    <path d=\"M0 0h24v24H0V0z\" fill=\"none\"/>\n",
              "    <path d=\"M18.56 5.44l.94 2.06.94-2.06 2.06-.94-2.06-.94-.94-2.06-.94 2.06-2.06.94zm-11 1L8.5 8.5l.94-2.06 2.06-.94-2.06-.94L8.5 2.5l-.94 2.06-2.06.94zm10 10l.94 2.06.94-2.06 2.06-.94-2.06-.94-.94-2.06-.94 2.06-2.06.94z\"/><path d=\"M17.41 7.96l-1.37-1.37c-.4-.4-.92-.59-1.43-.59-.52 0-1.04.2-1.43.59L10.3 9.45l-7.72 7.72c-.78.78-.78 2.05 0 2.83L4 21.41c.39.39.9.59 1.41.59.51 0 1.02-.2 1.41-.59l7.78-7.78 2.81-2.81c.8-.78.8-2.07 0-2.86zM5.41 20L4 18.59l7.72-7.72 1.47 1.35L5.41 20z\"/>\n",
              "  </svg>\n",
              "      </button>\n",
              "      \n",
              "  <style>\n",
              "    .colab-df-container {\n",
              "      display:flex;\n",
              "      flex-wrap:wrap;\n",
              "      gap: 12px;\n",
              "    }\n",
              "\n",
              "    .colab-df-convert {\n",
              "      background-color: #E8F0FE;\n",
              "      border: none;\n",
              "      border-radius: 50%;\n",
              "      cursor: pointer;\n",
              "      display: none;\n",
              "      fill: #1967D2;\n",
              "      height: 32px;\n",
              "      padding: 0 0 0 0;\n",
              "      width: 32px;\n",
              "    }\n",
              "\n",
              "    .colab-df-convert:hover {\n",
              "      background-color: #E2EBFA;\n",
              "      box-shadow: 0px 1px 2px rgba(60, 64, 67, 0.3), 0px 1px 3px 1px rgba(60, 64, 67, 0.15);\n",
              "      fill: #174EA6;\n",
              "    }\n",
              "\n",
              "    [theme=dark] .colab-df-convert {\n",
              "      background-color: #3B4455;\n",
              "      fill: #D2E3FC;\n",
              "    }\n",
              "\n",
              "    [theme=dark] .colab-df-convert:hover {\n",
              "      background-color: #434B5C;\n",
              "      box-shadow: 0px 1px 3px 1px rgba(0, 0, 0, 0.15);\n",
              "      filter: drop-shadow(0px 1px 2px rgba(0, 0, 0, 0.3));\n",
              "      fill: #FFFFFF;\n",
              "    }\n",
              "  </style>\n",
              "\n",
              "      <script>\n",
              "        const buttonEl =\n",
              "          document.querySelector('#df-c9f16aca-f3f6-4dc2-83cf-c250a4ff2eb6 button.colab-df-convert');\n",
              "        buttonEl.style.display =\n",
              "          google.colab.kernel.accessAllowed ? 'block' : 'none';\n",
              "\n",
              "        async function convertToInteractive(key) {\n",
              "          const element = document.querySelector('#df-c9f16aca-f3f6-4dc2-83cf-c250a4ff2eb6');\n",
              "          const dataTable =\n",
              "            await google.colab.kernel.invokeFunction('convertToInteractive',\n",
              "                                                     [key], {});\n",
              "          if (!dataTable) return;\n",
              "\n",
              "          const docLinkHtml = 'Like what you see? Visit the ' +\n",
              "            '<a target=\"_blank\" href=https://colab.research.google.com/notebooks/data_table.ipynb>data table notebook</a>'\n",
              "            + ' to learn more about interactive tables.';\n",
              "          element.innerHTML = '';\n",
              "          dataTable['output_type'] = 'display_data';\n",
              "          await google.colab.output.renderOutput(dataTable, element);\n",
              "          const docLink = document.createElement('div');\n",
              "          docLink.innerHTML = docLinkHtml;\n",
              "          element.appendChild(docLink);\n",
              "        }\n",
              "      </script>\n",
              "    </div>\n",
              "  </div>\n",
              "  "
            ]
          },
          "metadata": {},
          "execution_count": 6
        }
      ],
      "source": [
        "with open(pathData + '124766.pk', 'rb') as f:\n",
        "  df = pickle.load(f)\n",
        "df.head()"
      ]
    },
    {
      "cell_type": "code",
      "source": [
        "df.set_index(\"DATE1\", inplace = True)"
      ],
      "metadata": {
        "id": "YPBKMGQhyOU4"
      },
      "execution_count": 7,
      "outputs": []
    },
    {
      "cell_type": "code",
      "source": [
        "print(\"number of records:\", len(df))"
      ],
      "metadata": {
        "id": "ljJlXw_SzL0X",
        "colab": {
          "base_uri": "https://localhost:8080/"
        },
        "outputId": "a2a5a4ca-17f9-4840-9838-8b9bc7aab188"
      },
      "execution_count": 8,
      "outputs": [
        {
          "output_type": "stream",
          "name": "stdout",
          "text": [
            "number of records: 18184\n"
          ]
        }
      ]
    },
    {
      "cell_type": "markdown",
      "metadata": {
        "id": "nJnstCHlh7G4"
      },
      "source": [
        "**Train / Test Split**"
      ]
    },
    {
      "cell_type": "code",
      "execution_count": 9,
      "metadata": {
        "id": "7Glv1iOVh9ua",
        "colab": {
          "base_uri": "https://localhost:8080/",
          "height": 334
        },
        "outputId": "d20ae677-d9aa-4e19-ef78-524d9e70b595"
      },
      "outputs": [
        {
          "output_type": "display_data",
          "data": {
            "text/plain": [
              "<Figure size 1080x360 with 1 Axes>"
            ],
            "image/png": "[encoded data removed]"
          },
          "metadata": {
            "needs_background": "light"
          }
        }
      ],
      "source": [
        "train = df.loc[df.index.get_level_values('DATE1') < '2022-01-01'] # df.index.get_level_values('DATE1').dayofweek == 0\n",
        "test = df.loc[df.index.get_level_values('DATE1') >= '2022-01-01']\n",
        "\n",
        "fig, ax = plt.subplots(figsize=(15, 5))\n",
        "train.plot(ax=ax, label='Training Set', title='Data Train/Test Split')\n",
        "test.plot(ax=ax, label='Test Set')\n",
        "ax.axvline('2022-01-01', color='black', ls='--')\n",
        "ax.legend(['Training Set', 'Test Set'])\n",
        "plt.show()"
      ]
    },
    {
      "cell_type": "code",
      "source": [
        "test.head()"
      ],
      "metadata": {
        "colab": {
          "base_uri": "https://localhost:8080/",
          "height": 418
        },
        "id": "sSFGXGso7iro",
        "outputId": "ce8a7ae8-5bbd-4c71-922d-fa383fdd2a83"
      },
      "execution_count": 11,
      "outputs": [
        {
          "output_type": "execute_result",
          "data": {
            "text/plain": [
              "            SLS_CNTR_ID   QTY  isSalaryweek  Holiday  \\\n",
              "DATE1                                                  \n",
              "2022-01-12            5   4.0             0        0   \n",
              "2022-01-12           13  22.0             0        0   \n",
              "2022-01-12           19   1.0             0        0   \n",
              "2022-01-12           20   7.0             0        0   \n",
              "2022-01-12           24   3.0             0        0   \n",
              "\n",
              "            AcademicCalendarSemester  isWeekend  isNationalday  isRamadan  \\\n",
              "DATE1                                                                       \n",
              "2022-01-12                         0          0              0          0   \n",
              "2022-01-12                         0          0              0          0   \n",
              "2022-01-12                         0          0              0          0   \n",
              "2022-01-12                         0          0              0          0   \n",
              "2022-01-12                         0          0              0          0   \n",
              "\n",
              "            isRamadanEnd  isEid  ...  Category_Cancelled  Category_HomeMade  \\\n",
              "DATE1                            ...                                          \n",
              "2022-01-12             0      0  ...                   0                  0   \n",
              "2022-01-12             0      0  ...                   0                  0   \n",
              "2022-01-12             0      0  ...                   0                  0   \n",
              "2022-01-12             0      0  ...                   0                  0   \n",
              "2022-01-12             0      0  ...                   0                  0   \n",
              "\n",
              "            Category_HomeMadewithVAT  Category_Imported  Category_Itproducts  \\\n",
              "DATE1                                                                          \n",
              "2022-01-12                         0                  0                    0   \n",
              "2022-01-12                         0                  0                    0   \n",
              "2022-01-12                         0                  0                    0   \n",
              "2022-01-12                         0                  0                    0   \n",
              "2022-01-12                         0                  0                    0   \n",
              "\n",
              "            Category_Local  Category_Packaging  Category_Partner  \\\n",
              "DATE1                                                              \n",
              "2022-01-12               1                   0                 0   \n",
              "2022-01-12               1                   0                 0   \n",
              "2022-01-12               1                   0                 0   \n",
              "2022-01-12               1                   0                 0   \n",
              "2022-01-12               1                   0                 0   \n",
              "\n",
              "            Category_RawMaterial  Category_SisterCompany  \n",
              "DATE1                                                     \n",
              "2022-01-12                     0                       0  \n",
              "2022-01-12                     0                       0  \n",
              "2022-01-12                     0                       0  \n",
              "2022-01-12                     0                       0  \n",
              "2022-01-12                     0                       0  \n",
              "\n",
              "[5 rows x 23 columns]"
            ],
            "text/html": [
              "\n",
              "  <div id=\"df-6d2dd83e-cb8c-4adb-8778-0cc58ca2d86a\">\n",
              "    <div class=\"colab-df-container\">\n",
              "      <div>\n",
              "<style scoped>\n",
              "    .dataframe tbody tr th:only-of-type {\n",
              "        vertical-align: middle;\n",
              "    }\n",
              "\n",
              "    .dataframe tbody tr th {\n",
              "        vertical-align: top;\n",
              "    }\n",
              "\n",
              "    .dataframe thead th {\n",
              "        text-align: right;\n",
              "    }\n",
              "</style>\n",
              "<table border=\"1\" class=\"dataframe\">\n",
              "  <thead>\n",
              "    <tr style=\"text-align: right;\">\n",
              "      <th></th>\n",
              "      <th>SLS_CNTR_ID</th>\n",
              "      <th>QTY</th>\n",
              "      <th>isSalaryweek</th>\n",
              "      <th>Holiday</th>\n",
              "      <th>AcademicCalendarSemester</th>\n",
              "      <th>isWeekend</th>\n",
              "      <th>isNationalday</th>\n",
              "      <th>isRamadan</th>\n",
              "      <th>isRamadanEnd</th>\n",
              "      <th>isEid</th>\n",
              "      <th>...</th>\n",
              "      <th>Category_Cancelled</th>\n",
              "      <th>Category_HomeMade</th>\n",
              "      <th>Category_HomeMadewithVAT</th>\n",
              "      <th>Category_Imported</th>\n",
              "      <th>Category_Itproducts</th>\n",
              "      <th>Category_Local</th>\n",
              "      <th>Category_Packaging</th>\n",
              "      <th>Category_Partner</th>\n",
              "      <th>Category_RawMaterial</th>\n",
              "      <th>Category_SisterCompany</th>\n",
              "    </tr>\n",
              "    <tr>\n",
              "      <th>DATE1</th>\n",
              "      <th></th>\n",
              "      <th></th>\n",
              "      <th></th>\n",
              "      <th></th>\n",
              "      <th></th>\n",
              "      <th></th>\n",
              "      <th></th>\n",
              "      <th></th>\n",
              "      <th></th>\n",
              "      <th></th>\n",
              "      <th></th>\n",
              "      <th></th>\n",
              "      <th></th>\n",
              "      <th></th>\n",
              "      <th></th>\n",
              "      <th></th>\n",
              "      <th></th>\n",
              "      <th></th>\n",
              "      <th></th>\n",
              "      <th></th>\n",
              "      <th></th>\n",
              "    </tr>\n",
              "  </thead>\n",
              "  <tbody>\n",
              "    <tr>\n",
              "      <th>2022-01-12</th>\n",
              "      <td>5</td>\n",
              "      <td>4.0</td>\n",
              "      <td>0</td>\n",
              "      <td>0</td>\n",
              "      <td>0</td>\n",
              "      <td>0</td>\n",
              "      <td>0</td>\n",
              "      <td>0</td>\n",
              "      <td>0</td>\n",
              "      <td>0</td>\n",
              "      <td>...</td>\n",
              "      <td>0</td>\n",
              "      <td>0</td>\n",
              "      <td>0</td>\n",
              "      <td>0</td>\n",
              "      <td>0</td>\n",
              "      <td>1</td>\n",
              "      <td>0</td>\n",
              "      <td>0</td>\n",
              "      <td>0</td>\n",
              "      <td>0</td>\n",
              "    </tr>\n",
              "    <tr>\n",
              "      <th>2022-01-12</th>\n",
              "      <td>13</td>\n",
              "      <td>22.0</td>\n",
              "      <td>0</td>\n",
              "      <td>0</td>\n",
              "      <td>0</td>\n",
              "      <td>0</td>\n",
              "      <td>0</td>\n",
              "      <td>0</td>\n",
              "      <td>0</td>\n",
              "      <td>0</td>\n",
              "      <td>...</td>\n",
              "      <td>0</td>\n",
              "      <td>0</td>\n",
              "      <td>0</td>\n",
              "      <td>0</td>\n",
              "      <td>0</td>\n",
              "      <td>1</td>\n",
              "      <td>0</td>\n",
              "      <td>0</td>\n",
              "      <td>0</td>\n",
              "      <td>0</td>\n",
              "    </tr>\n",
              "    <tr>\n",
              "      <th>2022-01-12</th>\n",
              "      <td>19</td>\n",
              "      <td>1.0</td>\n",
              "      <td>0</td>\n",
              "      <td>0</td>\n",
              "      <td>0</td>\n",
              "      <td>0</td>\n",
              "      <td>0</td>\n",
              "      <td>0</td>\n",
              "      <td>0</td>\n",
              "      <td>0</td>\n",
              "      <td>...</td>\n",
              "      <td>0</td>\n",
              "      <td>0</td>\n",
              "      <td>0</td>\n",
              "      <td>0</td>\n",
              "      <td>0</td>\n",
              "      <td>1</td>\n",
              "      <td>0</td>\n",
              "      <td>0</td>\n",
              "      <td>0</td>\n",
              "      <td>0</td>\n",
              "    </tr>\n",
              "    <tr>\n",
              "      <th>2022-01-12</th>\n",
              "      <td>20</td>\n",
              "      <td>7.0</td>\n",
              "      <td>0</td>\n",
              "      <td>0</td>\n",
              "      <td>0</td>\n",
              "      <td>0</td>\n",
              "      <td>0</td>\n",
              "      <td>0</td>\n",
              "      <td>0</td>\n",
              "      <td>0</td>\n",
              "      <td>...</td>\n",
              "      <td>0</td>\n",
              "      <td>0</td>\n",
              "      <td>0</td>\n",
              "      <td>0</td>\n",
              "      <td>0</td>\n",
              "      <td>1</td>\n",
              "      <td>0</td>\n",
              "      <td>0</td>\n",
              "      <td>0</td>\n",
              "      <td>0</td>\n",
              "    </tr>\n",
              "    <tr>\n",
              "      <th>2022-01-12</th>\n",
              "      <td>24</td>\n",
              "      <td>3.0</td>\n",
              "      <td>0</td>\n",
              "      <td>0</td>\n",
              "      <td>0</td>\n",
              "      <td>0</td>\n",
              "      <td>0</td>\n",
              "      <td>0</td>\n",
              "      <td>0</td>\n",
              "      <td>0</td>\n",
              "      <td>...</td>\n",
              "      <td>0</td>\n",
              "      <td>0</td>\n",
              "      <td>0</td>\n",
              "      <td>0</td>\n",
              "      <td>0</td>\n",
              "      <td>1</td>\n",
              "      <td>0</td>\n",
              "      <td>0</td>\n",
              "      <td>0</td>\n",
              "      <td>0</td>\n",
              "    </tr>\n",
              "  </tbody>\n",
              "</table>\n",
              "<p>5 rows × 23 columns</p>\n",
              "</div>\n",
              "      <button class=\"colab-df-convert\" onclick=\"convertToInteractive('df-6d2dd83e-cb8c-4adb-8778-0cc58ca2d86a')\"\n",
              "              title=\"Convert this dataframe to an interactive table.\"\n",
              "              style=\"display:none;\">\n",
              "        \n",
              "  <svg xmlns=\"http://www.w3.org/2000/svg\" height=\"24px\"viewBox=\"0 0 24 24\"\n",
              "       width=\"24px\">\n",
              "    <path d=\"M0 0h24v24H0V0z\" fill=\"none\"/>\n",
              "    <path d=\"M18.56 5.44l.94 2.06.94-2.06 2.06-.94-2.06-.94-.94-2.06-.94 2.06-2.06.94zm-11 1L8.5 8.5l.94-2.06 2.06-.94-2.06-.94L8.5 2.5l-.94 2.06-2.06.94zm10 10l.94 2.06.94-2.06 2.06-.94-2.06-.94-.94-2.06-.94 2.06-2.06.94z\"/><path d=\"M17.41 7.96l-1.37-1.37c-.4-.4-.92-.59-1.43-.59-.52 0-1.04.2-1.43.59L10.3 9.45l-7.72 7.72c-.78.78-.78 2.05 0 2.83L4 21.41c.39.39.9.59 1.41.59.51 0 1.02-.2 1.41-.59l7.78-7.78 2.81-2.81c.8-.78.8-2.07 0-2.86zM5.41 20L4 18.59l7.72-7.72 1.47 1.35L5.41 20z\"/>\n",
              "  </svg>\n",
              "      </button>\n",
              "      \n",
              "  <style>\n",
              "    .colab-df-container {\n",
              "      display:flex;\n",
              "      flex-wrap:wrap;\n",
              "      gap: 12px;\n",
              "    }\n",
              "\n",
              "    .colab-df-convert {\n",
              "      background-color: #E8F0FE;\n",
              "      border: none;\n",
              "      border-radius: 50%;\n",
              "      cursor: pointer;\n",
              "      display: none;\n",
              "      fill: #1967D2;\n",
              "      height: 32px;\n",
              "      padding: 0 0 0 0;\n",
              "      width: 32px;\n",
              "    }\n",
              "\n",
              "    .colab-df-convert:hover {\n",
              "      background-color: #E2EBFA;\n",
              "      box-shadow: 0px 1px 2px rgba(60, 64, 67, 0.3), 0px 1px 3px 1px rgba(60, 64, 67, 0.15);\n",
              "      fill: #174EA6;\n",
              "    }\n",
              "\n",
              "    [theme=dark] .colab-df-convert {\n",
              "      background-color: #3B4455;\n",
              "      fill: #D2E3FC;\n",
              "    }\n",
              "\n",
              "    [theme=dark] .colab-df-convert:hover {\n",
              "      background-color: #434B5C;\n",
              "      box-shadow: 0px 1px 3px 1px rgba(0, 0, 0, 0.15);\n",
              "      filter: drop-shadow(0px 1px 2px rgba(0, 0, 0, 0.3));\n",
              "      fill: #FFFFFF;\n",
              "    }\n",
              "  </style>\n",
              "\n",
              "      <script>\n",
              "        const buttonEl =\n",
              "          document.querySelector('#df-6d2dd83e-cb8c-4adb-8778-0cc58ca2d86a button.colab-df-convert');\n",
              "        buttonEl.style.display =\n",
              "          google.colab.kernel.accessAllowed ? 'block' : 'none';\n",
              "\n",
              "        async function convertToInteractive(key) {\n",
              "          const element = document.querySelector('#df-6d2dd83e-cb8c-4adb-8778-0cc58ca2d86a');\n",
              "          const dataTable =\n",
              "            await google.colab.kernel.invokeFunction('convertToInteractive',\n",
              "                                                     [key], {});\n",
              "          if (!dataTable) return;\n",
              "\n",
              "          const docLinkHtml = 'Like what you see? Visit the ' +\n",
              "            '<a target=\"_blank\" href=https://colab.research.google.com/notebooks/data_table.ipynb>data table notebook</a>'\n",
              "            + ' to learn more about interactive tables.';\n",
              "          element.innerHTML = '';\n",
              "          dataTable['output_type'] = 'display_data';\n",
              "          await google.colab.output.renderOutput(dataTable, element);\n",
              "          const docLink = document.createElement('div');\n",
              "          docLink.innerHTML = docLinkHtml;\n",
              "          element.appendChild(docLink);\n",
              "        }\n",
              "      </script>\n",
              "    </div>\n",
              "  </div>\n",
              "  "
            ]
          },
          "metadata": {},
          "execution_count": 11
        }
      ]
    },
    {
      "cell_type": "markdown",
      "metadata": {
        "id": "xdir6v3qiprM"
      },
      "source": [
        "**Create the Model**"
      ]
    },
    {
      "cell_type": "code",
      "execution_count": 31,
      "metadata": {
        "id": "2Sk4ZPY7jARj"
      },
      "outputs": [],
      "source": [
        "#DataFrame.dtypes for data must be int, float or bool, so we are removing 'ITEM_ID' and 'DATE1'\n",
        "FEATURES = ['SLS_CNTR_ID', 'isSalaryweek', 'AcademicCalendarSemester', 'isWeekend', 'isRamadan', 'isRamadanEnd', 'isEid', 'isNationalday']\n",
        "TARGET = 'QTY'\n",
        "\n",
        "X_train = train[FEATURES]\n",
        "y_train = train[TARGET]\n",
        "\n",
        "X_test = test[FEATURES]\n",
        "y_test = test[TARGET]"
      ]
    },
    {
      "cell_type": "code",
      "source": [
        "model = xgb.XGBRegressor(base_score=0.5, booster='gbtree',    \n",
        "                       n_estimators=1000,\n",
        "                       early_stopping_rounds=50,\n",
        "                       objective='reg:squarederror', # instead of 'reg:linear' that is deprecated \n",
        "                       max_depth=3,\n",
        "                       learning_rate=0.01)"
      ],
      "metadata": {
        "id": "p0xnlAFsyWR1"
      },
      "execution_count": 32,
      "outputs": []
    },
    {
      "cell_type": "code",
      "execution_count": 33,
      "metadata": {
        "id": "zaanp2MajIIa",
        "colab": {
          "base_uri": "https://localhost:8080/"
        },
        "outputId": "a41d8d6a-d8fc-4d04-cc2c-75dfa4e8f24b"
      },
      "outputs": [
        {
          "output_type": "stream",
          "name": "stdout",
          "text": [
            "[0]\tvalidation_0-rmse:10.5772\tvalidation_1-rmse:5.83036\n",
            "[100]\tvalidation_0-rmse:7.68943\tvalidation_1-rmse:4.0241\n",
            "[200]\tvalidation_0-rmse:7.08639\tvalidation_1-rmse:4.32878\n",
            "[300]\tvalidation_0-rmse:6.91315\tvalidation_1-rmse:4.52555\n",
            "[400]\tvalidation_0-rmse:6.83335\tvalidation_1-rmse:4.60599\n",
            "[500]\tvalidation_0-rmse:6.77784\tvalidation_1-rmse:4.63164\n",
            "[600]\tvalidation_0-rmse:6.7378\tvalidation_1-rmse:4.64469\n",
            "[700]\tvalidation_0-rmse:6.71203\tvalidation_1-rmse:4.66854\n",
            "[800]\tvalidation_0-rmse:6.69055\tvalidation_1-rmse:4.70104\n",
            "[900]\tvalidation_0-rmse:6.67375\tvalidation_1-rmse:4.74411\n",
            "[999]\tvalidation_0-rmse:6.6619\tvalidation_1-rmse:4.77784\n"
          ]
        },
        {
          "output_type": "execute_result",
          "data": {
            "text/plain": [
              "XGBRegressor(early_stopping_rounds=50, learning_rate=0.01, n_estimators=1000,\n",
              "             objective='reg:squarederror')"
            ]
          },
          "metadata": {},
          "execution_count": 33
        }
      ],
      "source": [
        "model.fit(X_train, y_train,\n",
        "        eval_set=[(X_train, y_train), (X_test, y_test)],\n",
        "        verbose=100)"
      ]
    },
    {
      "cell_type": "markdown",
      "source": [
        "Save the model"
      ],
      "metadata": {
        "id": "7Sv9_adAxlox"
      }
    },
    {
      "cell_type": "code",
      "source": [
        "with open(pathData + 'model.pk', 'wb') as f:\n",
        "  pickle.dump(model, f)"
      ],
      "metadata": {
        "id": "WedLXfCHxdqX"
      },
      "execution_count": 35,
      "outputs": []
    },
    {
      "cell_type": "markdown",
      "metadata": {
        "id": "m7YmFI8UjU5T"
      },
      "source": [
        "**Feature Importance**"
      ]
    },
    {
      "cell_type": "code",
      "source": [
        "# get importance\n",
        "importance = model.feature_importances_\n",
        "# summarize feature importance\n",
        "for i,v in enumerate(importance):\n",
        "\tprint('Feature: %0d, Score: %.5f' % (i,v))"
      ],
      "metadata": {
        "id": "slfy6uhoHzWS"
      },
      "execution_count": null,
      "outputs": []
    },
    {
      "cell_type": "code",
      "execution_count": 36,
      "metadata": {
        "id": "grZw_xPljWN3",
        "colab": {
          "base_uri": "https://localhost:8080/",
          "height": 295
        },
        "outputId": "f06f2016-f21e-49a5-da5c-08e6d3dff3a7"
      },
      "outputs": [
        {
          "output_type": "display_data",
          "data": {
            "text/plain": [
              "<Figure size 432x288 with 1 Axes>"
            ],
            "image/png": "[encoded data removed]"
          },
          "metadata": {
            "needs_background": "light"
          }
        }
      ],
      "source": [
        "#from xgboost import XGBRegressor\n",
        "from xgboost import plot_importance\n",
        "# plot feature importance\n",
        "plot_importance(model)\n",
        "plt.show()"
      ]
    },
    {
      "cell_type": "markdown",
      "metadata": {
        "id": "BuP8JJfljfAc"
      },
      "source": [
        "**Forecast on Test**"
      ]
    },
    {
      "cell_type": "code",
      "source": [
        "test = test.drop(columns=['prediction'])"
      ],
      "metadata": {
        "id": "YUe0-61b0KpO"
      },
      "execution_count": 41,
      "outputs": []
    },
    {
      "cell_type": "code",
      "execution_count": null,
      "metadata": {
        "id": "sy8hQDoljeQG"
      },
      "outputs": [],
      "source": [
        "test['prediction'] = model.predict(X_test)\n",
        "df = df.merge(test[['prediction']], how='left', left_index=True, right_index=True)\n",
        "ax = df.loc[(df.index > '01-01-2022') & (df.index < '01-08-2022')]['QTY'].plot(figsize=(15, 5)) #df(['QTY'].plot(figsize=(15, 5))\n",
        "df.loc[(df.index > '04-01-2018') & (df.index < '04-08-2018')]['prediction'].plot(style='.') # df['prediction'].plot(ax=ax, style='.')\n",
        "plt.legend(['Truth Data', 'Predictions'])\n",
        "ax.set_title('Raw Data and Prediction')\n",
        "plt.show()"
      ]
    },
    {
      "cell_type": "markdown",
      "metadata": {
        "id": "KUCE9GbUj0aX"
      },
      "source": [
        "**Score (RMSE)**"
      ]
    },
    {
      "cell_type": "code",
      "execution_count": null,
      "metadata": {
        "id": "RzXkkmxRj4Jg"
      },
      "outputs": [],
      "source": [
        "score = np.sqrt(mean_squared_error(test['salesQty'], test['prediction']))\n",
        "print(f'RMSE Score on Test set: {score:0.2f}')"
      ]
    },
    {
      "cell_type": "markdown",
      "metadata": {
        "id": "Y8AN_o2lkRR2"
      },
      "source": [
        "**Calculate Error**\n",
        "\n",
        "\n",
        "*   Look at the worst and best predicted days"
      ]
    },
    {
      "cell_type": "code",
      "execution_count": null,
      "metadata": {
        "id": "eDrIFpBTke8J"
      },
      "outputs": [],
      "source": [
        "test['error'] = np.abs(test[TARGET] - test['prediction'])\n",
        "test['date'] = test.index.date\n",
        "test.groupby(['date'])['error'].mean().sort_values(ascending=False).head(10)"
      ]
    },
    {
      "cell_type": "markdown",
      "metadata": {
        "id": "9J-1kODSkj8i"
      },
      "source": [
        "**Save weights**\n",
        "\n",
        "\n",
        "*   Save the model and its weights to be used for predection with other set of data\n",
        "\n"
      ]
    },
    {
      "cell_type": "code",
      "execution_count": null,
      "metadata": {
        "id": "dxj9xYzMkoD6"
      },
      "outputs": [],
      "source": [
        ""
      ]
    }
  ],
  "metadata": {
    "accelerator": "GPU",
    "colab": {
      "collapsed_sections": [],
      "name": "05_TrainModel",
      "provenance": [],
      "include_colab_link": true
    },
    "kernelspec": {
      "display_name": "Python 3",
      "name": "python3"
    }
  },
  "nbformat": 4,
  "nbformat_minor": 0
}