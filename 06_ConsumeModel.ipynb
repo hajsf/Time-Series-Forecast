{
  "cells": [
    {
      "cell_type": "markdown",
      "metadata": {
        "id": "view-in-github",
        "colab_type": "text"
      },
      "source": [
        "<a href=\"https://colab.research.google.com/github/hajsf/Time-Series-Forecast/blob/main/06_ConsumeModel.ipynb\" target=\"_parent\"><img src=\"https://colab.research.google.com/assets/colab-badge.svg\" alt=\"Open In Colab\"/></a>"
      ]
    },
    {
      "cell_type": "markdown",
      "metadata": {
        "id": "bEp9tZLZmLvl"
      },
      "source": [
        "Mount google drive"
      ]
    },
    {
      "cell_type": "code",
      "execution_count": null,
      "metadata": {
        "id": "xCiQK9EymKri",
        "colab": {
          "base_uri": "https://localhost:8080/"
        },
        "outputId": "68c6ba6b-dbd9-4913-f6f3-254e440ec174"
      },
      "outputs": [
        {
          "output_type": "stream",
          "name": "stdout",
          "text": [
            "Drive already mounted at /content/drive; to attempt to forcibly remount, call drive.mount(\"/content/drive\", force_remount=True).\n"
          ]
        }
      ],
      "source": [
        "from google.colab import drive\n",
        "drive.mount('/content/drive')"
      ]
    },
    {
      "cell_type": "code",
      "source": [
        "import pandas as pd\n",
        "import glob\n",
        "import numpy as np"
      ],
      "metadata": {
        "id": "vFgtZTRq63k5"
      },
      "execution_count": null,
      "outputs": []
    },
    {
      "cell_type": "code",
      "execution_count": null,
      "metadata": {
        "id": "h2LQvqXbpQpx"
      },
      "outputs": [],
      "source": [
        "# import required library\n",
        "import matplotlib.pyplot as plt\n",
        "import seaborn as sns\n",
        "import xgboost as xgb\n",
        "from sklearn.metrics import mean_squared_error"
      ]
    },
    {
      "cell_type": "markdown",
      "metadata": {
        "id": "ExreCoBoa1b9"
      },
      "source": [
        "**Read the csv files**\n",
        "\n",
        "\n",
        "*   Define correct seperator, tab in our example\n",
        "*   Use dtype to enforce data type mainy in casefield field has mix data types\n",
        "*   Use low_memory=False so you do not mind whatever type the undefined fields are read in they have mix data\n",
        "\n",
        "\n",
        "\n"
      ]
    },
    {
      "cell_type": "code",
      "source": [
        "path = \"/content/drive/MyDrive/ColabNotebooks/dataset/05_TrainedModel/\""
      ],
      "metadata": {
        "id": "vrDDwi4cywry"
      },
      "execution_count": null,
      "outputs": []
    }
  ],
  "metadata": {
    "accelerator": "GPU",
    "colab": {
      "collapsed_sections": [],
      "name": "06_ConsumeModel",
      "provenance": [],
      "include_colab_link": true
    },
    "kernelspec": {
      "display_name": "Python 3",
      "name": "python3"
    }
  },
  "nbformat": 4,
  "nbformat_minor": 0
}